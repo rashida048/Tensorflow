{
  "nbformat": 4,
  "nbformat_minor": 0,
  "metadata": {
    "colab": {
      "name": "transfer_learning_inception_v3.ipynb",
      "provenance": [],
      "authorship_tag": "ABX9TyMw6palGFZnpXxc7dykAVag",
      "include_colab_link": true
    },
    "kernelspec": {
      "name": "python3",
      "display_name": "Python 3"
    },
    "language_info": {
      "name": "python"
    }
  },
  "cells": [
    {
      "cell_type": "markdown",
      "metadata": {
        "id": "view-in-github",
        "colab_type": "text"
      },
      "source": [
        "<a href=\"https://colab.research.google.com/github/rashida048/Tensorflow/blob/main/transfer_learning_inception_v3.ipynb\" target=\"_parent\"><img src=\"https://colab.research.google.com/assets/colab-badge.svg\" alt=\"Open In Colab\"/></a>"
      ]
    },
    {
      "cell_type": "code",
      "metadata": {
        "colab": {
          "base_uri": "https://localhost:8080/"
        },
        "id": "OKA5QD9ycjIX",
        "outputId": "fc17edc6-281f-4bea-963a-f17a8da8c063"
      },
      "source": [
        "import os\n",
        "\n",
        "from tensorflow.keras import layers\n",
        "from tensorflow.keras import Model\n",
        "!wget --no-check-certificate \\\n",
        "    https://storage.googleapis.com/mledu-datasets/inception_v3_weights_tf_dim_ordering_tf_kernels_notop.h5 \\\n",
        "    -O /tmp/inception_v3_weights_tf_dim_ordering_tf_kernels_notop.h5\n",
        "  \n",
        "from tensorflow.keras.applications.inception_v3 import InceptionV3"
      ],
      "execution_count": 1,
      "outputs": [
        {
          "output_type": "stream",
          "name": "stdout",
          "text": [
            "--2021-12-05 02:37:11--  https://storage.googleapis.com/mledu-datasets/inception_v3_weights_tf_dim_ordering_tf_kernels_notop.h5\n",
            "Resolving storage.googleapis.com (storage.googleapis.com)... 64.233.170.128, 172.217.204.128, 172.217.203.128, ...\n",
            "Connecting to storage.googleapis.com (storage.googleapis.com)|64.233.170.128|:443... connected.\n",
            "HTTP request sent, awaiting response... 200 OK\n",
            "Length: 87910968 (84M) [application/x-hdf]\n",
            "Saving to: ‘/tmp/inception_v3_weights_tf_dim_ordering_tf_kernels_notop.h5’\n",
            "\n",
            "/tmp/inception_v3_w 100%[===================>]  83.84M  96.6MB/s    in 0.9s    \n",
            "\n",
            "2021-12-05 02:37:12 (96.6 MB/s) - ‘/tmp/inception_v3_weights_tf_dim_ordering_tf_kernels_notop.h5’ saved [87910968/87910968]\n",
            "\n"
          ]
        }
      ]
    },
    {
      "cell_type": "code",
      "metadata": {
        "id": "NFmNUW1Ac6sY"
      },
      "source": [
        "local_weights_file = '/tmp/inception_v3_weights_tf_dim_ordering_tf_kernels_notop.h5'"
      ],
      "execution_count": 2,
      "outputs": []
    },
    {
      "cell_type": "code",
      "metadata": {
        "colab": {
          "base_uri": "https://localhost:8080/"
        },
        "id": "15piDdzidKBS",
        "outputId": "6ff10411-7f76-46de-9d24-00b6233cf423"
      },
      "source": [
        "pre_trained_model = InceptionV3(input_shape= (150, 150, 3),\n",
        "                                include_top = False,\n",
        "                                weights = None)\n",
        "\n",
        "pre_trained_model.load_weights(local_weights_file)\n",
        "\n",
        "for layer in pre_trained_model.layers:\n",
        "  layer.trainable = False\n",
        "\n",
        "last_layer = pre_trained_model.get_layer('mixed7')\n",
        "print('last layer output shape: ', last_layer.output_shape)\n",
        "last_output = last_layer.output"
      ],
      "execution_count": 3,
      "outputs": [
        {
          "output_type": "stream",
          "name": "stdout",
          "text": [
            "last layer output shape:  (None, 7, 7, 768)\n"
          ]
        }
      ]
    },
    {
      "cell_type": "code",
      "metadata": {
        "colab": {
          "base_uri": "https://localhost:8080/"
        },
        "id": "Sjxo9Rbrd8PQ",
        "outputId": "0b0e73b0-4e49-4b00-aa01-9d7a9f523c66"
      },
      "source": [
        "from tensorflow.keras.optimizers import RMSprop\n",
        "x = layers.Flatten()(last_output)\n",
        "\n",
        "x = layers.Dense(1024, activation='relu')(x)\n",
        "\n",
        "x = layers.Dense(1, activation='sigmoid')(x)\n",
        "\n",
        "model = Model(pre_trained_model.input, x)\n",
        "\n",
        "model.compile(optimizer = RMSprop(lr=0.0001),\n",
        "              loss='binary_crossentropy',\n",
        "              metrics=['accuracy'])"
      ],
      "execution_count": 4,
      "outputs": [
        {
          "output_type": "stream",
          "name": "stderr",
          "text": [
            "/usr/local/lib/python3.7/dist-packages/keras/optimizer_v2/rmsprop.py:130: UserWarning: The `lr` argument is deprecated, use `learning_rate` instead.\n",
            "  super(RMSprop, self).__init__(name, **kwargs)\n"
          ]
        }
      ]
    },
    {
      "cell_type": "code",
      "metadata": {
        "colab": {
          "base_uri": "https://localhost:8080/"
        },
        "id": "26jbwrfyfQjf",
        "outputId": "9df54f54-26ba-4def-d829-1562ebad6b09"
      },
      "source": [
        "!wget --no-check-certificate \\\n",
        "        https://storage.googleapis.com/mledu-datasets/cats_and_dogs_filtered.zip \\\n",
        "       -O /tmp/cats_and_dogs_filtered.zip\n",
        "\n",
        "from tensorflow.keras.preprocessing.image import ImageDataGenerator\n",
        "\n",
        "import os\n",
        "import zipfile\n",
        "\n",
        "local_zip = '//tmp/cats_and_dogs_filtered.zip'\n",
        "\n",
        "zip_ref = zipfile.ZipFile(local_zip, 'r')\n",
        "\n",
        "zip_ref.extractall('/tmp')\n",
        "zip_ref.close()\n",
        "\n",
        "# Define our example directories and files\n",
        "base_dir = '/tmp/cats_and_dogs_filtered'\n",
        "\n",
        "train_dir = os.path.join( base_dir, 'train')\n",
        "validation_dir = os.path.join( base_dir, 'validation')\n",
        "\n",
        "\n",
        "train_cats_dir = os.path.join(train_dir, 'cats') # Directory with our training cat pictures\n",
        "train_dogs_dir = os.path.join(train_dir, 'dogs') # Directory with our training dog pictures\n",
        "validation_cats_dir = os.path.join(validation_dir, 'cats') # Directory with our validation cat pictures\n",
        "validation_dogs_dir = os.path.join(validation_dir, 'dogs')# Directory with our validation dog pictures\n",
        "\n",
        "train_cat_fnames = os.listdir(train_cats_dir)\n",
        "train_dog_fnames = os.listdir(train_dogs_dir)\n"
      ],
      "execution_count": 5,
      "outputs": [
        {
          "output_type": "stream",
          "name": "stdout",
          "text": [
            "--2021-12-05 02:48:03--  https://storage.googleapis.com/mledu-datasets/cats_and_dogs_filtered.zip\n",
            "Resolving storage.googleapis.com (storage.googleapis.com)... 173.194.218.128, 64.233.170.128, 172.217.204.128, ...\n",
            "Connecting to storage.googleapis.com (storage.googleapis.com)|173.194.218.128|:443... connected.\n",
            "HTTP request sent, awaiting response... 200 OK\n",
            "Length: 68606236 (65M) [application/zip]\n",
            "Saving to: ‘/tmp/cats_and_dogs_filtered.zip’\n",
            "\n",
            "/tmp/cats_and_dogs_ 100%[===================>]  65.43M   178MB/s    in 0.4s    \n",
            "\n",
            "2021-12-05 02:48:03 (178 MB/s) - ‘/tmp/cats_and_dogs_filtered.zip’ saved [68606236/68606236]\n",
            "\n"
          ]
        }
      ]
    },
    {
      "cell_type": "code",
      "metadata": {
        "colab": {
          "base_uri": "https://localhost:8080/"
        },
        "id": "q1_iK4gAfb7N",
        "outputId": "1953061e-c06e-4c10-c696-87cfa555f9cd"
      },
      "source": [
        "train_datagen = ImageDataGenerator(rescale = 1./255.,\n",
        "                                   rotation_range = 40,\n",
        "                                   width_shift_range = 0.2,\n",
        "                                   height_shift_range = 0.2,\n",
        "                                   shear_range = 0.2,\n",
        "                                   zoom_range = 0.2,\n",
        "                                   horizontal_flip = True)\n",
        "\n",
        "# Note that the validation data should not be augmented!\n",
        "test_datagen = ImageDataGenerator( rescale = 1.0/255. )\n",
        "\n",
        "# Flow training images in batches of 20 using train_datagen generator\n",
        "train_generator = train_datagen.flow_from_directory(train_dir,\n",
        "                                                    batch_size = 20,\n",
        "                                                    class_mode = 'binary', \n",
        "                                                    target_size = (150, 150))     \n",
        "\n",
        "# Flow validation images in batches of 20 using test_datagen generator\n",
        "validation_generator =  test_datagen.flow_from_directory( validation_dir,\n",
        "                                                          batch_size  = 20,\n",
        "                                                          class_mode  = 'binary', \n",
        "                                                          target_size = (150, 150))"
      ],
      "execution_count": 6,
      "outputs": [
        {
          "output_type": "stream",
          "name": "stdout",
          "text": [
            "Found 2000 images belonging to 2 classes.\n",
            "Found 1000 images belonging to 2 classes.\n"
          ]
        }
      ]
    },
    {
      "cell_type": "code",
      "metadata": {
        "colab": {
          "base_uri": "https://localhost:8080/"
        },
        "id": "j0_GHZdMfgbG",
        "outputId": "f04467ce-7544-465b-b7dc-51f1e62acaf2"
      },
      "source": [
        "history = model.fit(\n",
        "            train_generator,\n",
        "            validation_data = validation_generator,\n",
        "            steps_per_epoch = 100,\n",
        "            epochs = 20,\n",
        "            validation_steps = 50,\n",
        "            verbose = 2)"
      ],
      "execution_count": 7,
      "outputs": [
        {
          "output_type": "stream",
          "name": "stdout",
          "text": [
            "Epoch 1/20\n",
            "100/100 - 160s - loss: 0.3429 - accuracy: 0.8730 - val_loss: 0.2027 - val_accuracy: 0.9260 - 160s/epoch - 2s/step\n",
            "Epoch 2/20\n",
            "100/100 - 155s - loss: 0.1992 - accuracy: 0.9195 - val_loss: 0.1495 - val_accuracy: 0.9470 - 155s/epoch - 2s/step\n",
            "Epoch 3/20\n",
            "100/100 - 155s - loss: 0.1835 - accuracy: 0.9325 - val_loss: 0.1105 - val_accuracy: 0.9670 - 155s/epoch - 2s/step\n",
            "Epoch 4/20\n",
            "100/100 - 156s - loss: 0.1793 - accuracy: 0.9385 - val_loss: 0.1082 - val_accuracy: 0.9630 - 156s/epoch - 2s/step\n",
            "Epoch 5/20\n",
            "100/100 - 155s - loss: 0.1610 - accuracy: 0.9420 - val_loss: 0.1048 - val_accuracy: 0.9640 - 155s/epoch - 2s/step\n",
            "Epoch 6/20\n",
            "100/100 - 155s - loss: 0.1778 - accuracy: 0.9345 - val_loss: 0.1033 - val_accuracy: 0.9660 - 155s/epoch - 2s/step\n",
            "Epoch 7/20\n",
            "100/100 - 155s - loss: 0.1636 - accuracy: 0.9420 - val_loss: 0.0983 - val_accuracy: 0.9660 - 155s/epoch - 2s/step\n",
            "Epoch 8/20\n",
            "100/100 - 155s - loss: 0.1501 - accuracy: 0.9440 - val_loss: 0.1284 - val_accuracy: 0.9610 - 155s/epoch - 2s/step\n",
            "Epoch 9/20\n",
            "100/100 - 156s - loss: 0.1250 - accuracy: 0.9540 - val_loss: 0.1389 - val_accuracy: 0.9620 - 156s/epoch - 2s/step\n",
            "Epoch 10/20\n",
            "100/100 - 155s - loss: 0.1448 - accuracy: 0.9470 - val_loss: 0.1053 - val_accuracy: 0.9670 - 155s/epoch - 2s/step\n",
            "Epoch 11/20\n",
            "100/100 - 154s - loss: 0.1259 - accuracy: 0.9590 - val_loss: 0.1817 - val_accuracy: 0.9490 - 154s/epoch - 2s/step\n",
            "Epoch 12/20\n",
            "100/100 - 154s - loss: 0.1420 - accuracy: 0.9515 - val_loss: 0.1470 - val_accuracy: 0.9590 - 154s/epoch - 2s/step\n",
            "Epoch 13/20\n",
            "100/100 - 153s - loss: 0.1332 - accuracy: 0.9560 - val_loss: 0.1262 - val_accuracy: 0.9640 - 153s/epoch - 2s/step\n",
            "Epoch 14/20\n",
            "100/100 - 153s - loss: 0.1365 - accuracy: 0.9565 - val_loss: 0.1153 - val_accuracy: 0.9670 - 153s/epoch - 2s/step\n",
            "Epoch 15/20\n",
            "100/100 - 154s - loss: 0.1316 - accuracy: 0.9520 - val_loss: 0.1147 - val_accuracy: 0.9690 - 154s/epoch - 2s/step\n",
            "Epoch 16/20\n",
            "100/100 - 154s - loss: 0.1226 - accuracy: 0.9545 - val_loss: 0.1449 - val_accuracy: 0.9580 - 154s/epoch - 2s/step\n",
            "Epoch 17/20\n",
            "100/100 - 154s - loss: 0.1366 - accuracy: 0.9575 - val_loss: 0.1008 - val_accuracy: 0.9690 - 154s/epoch - 2s/step\n",
            "Epoch 18/20\n",
            "100/100 - 153s - loss: 0.1250 - accuracy: 0.9565 - val_loss: 0.1148 - val_accuracy: 0.9650 - 153s/epoch - 2s/step\n",
            "Epoch 19/20\n",
            "100/100 - 153s - loss: 0.1055 - accuracy: 0.9630 - val_loss: 0.1489 - val_accuracy: 0.9610 - 153s/epoch - 2s/step\n",
            "Epoch 20/20\n",
            "100/100 - 154s - loss: 0.1214 - accuracy: 0.9645 - val_loss: 0.1679 - val_accuracy: 0.9620 - 154s/epoch - 2s/step\n"
          ]
        }
      ]
    },
    {
      "cell_type": "code",
      "metadata": {
        "colab": {
          "base_uri": "https://localhost:8080/",
          "height": 298
        },
        "id": "oSizBsHBfl22",
        "outputId": "f36ddb49-d18b-4293-ce7a-8b47f19f6a9c"
      },
      "source": [
        "import matplotlib.pyplot as plt\n",
        "acc = history.history['accuracy']\n",
        "val_acc = history.history['val_accuracy']\n",
        "loss = history.history['loss']\n",
        "val_loss = history.history['val_loss']\n",
        "\n",
        "epochs = range(len(acc))\n",
        "\n",
        "plt.plot(epochs, acc, 'r', label='Training accuracy')\n",
        "plt.plot(epochs, val_acc, 'b', label='Validation accuracy')\n",
        "plt.title('Training and validation accuracy')\n",
        "plt.legend(loc=0)\n",
        "plt.figure()\n",
        "\n",
        "\n",
        "plt.show()"
      ],
      "execution_count": 8,
      "outputs": [
        {
          "output_type": "display_data",
          "data": {
            "image/png": "[encoded data removed]",
            "text/plain": [
              "<Figure size 432x288 with 1 Axes>"
            ]
          },
          "metadata": {
            "needs_background": "light"
          }
        },
        {
          "output_type": "display_data",
          "data": {
            "text/plain": [
              "<Figure size 432x288 with 0 Axes>"
            ]
          },
          "metadata": {}
        }
      ]
    },
    {
      "cell_type": "code",
      "metadata": {
        "id": "x9ithlfktwhf"
      },
      "source": [
        ""
      ],
      "execution_count": null,
      "outputs": []
    }
  ]
}