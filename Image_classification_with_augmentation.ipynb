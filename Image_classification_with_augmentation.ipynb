{
  "nbformat": 4,
  "nbformat_minor": 0,
  "metadata": {
    "colab": {
      "name": "Image_classification_with_augmentation.ipynb",
      "provenance": [],
      "authorship_tag": "ABX9TyPubqkiN2xzQm5tjArjcgbk",
      "include_colab_link": true
    },
    "kernelspec": {
      "display_name": "Python 3",
      "name": "python3"
    },
    "language_info": {
      "name": "python"
    }
  },
  "cells": [
    {
      "cell_type": "markdown",
      "metadata": {
        "id": "view-in-github",
        "colab_type": "text"
      },
      "source": [
        "<a href=\"https://colab.research.google.com/github/rashida048/Tensorflow/blob/main/Image_classification_with_augmentation.ipynb\" target=\"_parent\"><img src=\"https://colab.research.google.com/assets/colab-badge.svg\" alt=\"Open In Colab\"/></a>"
      ]
    },
    {
      "cell_type": "code",
      "metadata": {
        "colab": {
          "base_uri": "https://localhost:8080/"
        },
        "id": "65_Jz25Y7iBG",
        "outputId": "b2e0d944-0830-4bd8-bb88-e6c9870159ee"
      },
      "source": [
        "!wget --no-check-certificate \\\n",
        "    https://storage.googleapis.com/mledu-datasets/cats_and_dogs_filtered.zip \\\n",
        "    -O /tmp/cats_and_dogs_filtered.zip"
      ],
      "execution_count": null,
      "outputs": [
        {
          "name": "stdout",
          "output_type": "stream",
          "text": [
            "--2021-12-03 20:14:02--  https://storage.googleapis.com/mledu-datasets/cats_and_dogs_filtered.zip\n",
            "Resolving storage.googleapis.com (storage.googleapis.com)... 142.250.141.128, 2607:f8b0:4023:c0b::80, 2607:f8b0:4023:c06::80\n",
            "Connecting to storage.googleapis.com (storage.googleapis.com)|142.250.141.128|:443... connected.\n",
            "HTTP request sent, awaiting response... 200 OK\n",
            "Length: 68606236 (65M) [application/zip]\n",
            "Saving to: ‘/tmp/cats_and_dogs_filtered.zip’\n",
            "\n",
            "/tmp/cats_and_dogs_ 100%[===================>]  65.43M   105MB/s    in 0.6s    \n",
            "\n",
            "2021-12-03 20:14:02 (105 MB/s) - ‘/tmp/cats_and_dogs_filtered.zip’ saved [68606236/68606236]\n",
            "\n"
          ]
        }
      ]
    },
    {
      "cell_type": "code",
      "metadata": {
        "id": "0MCNu6RW7pVI"
      },
      "source": [
        "import os\n",
        "import zipfile\n",
        "import tensorflow as tf\n",
        "from tensorflow.keras.optimizers import RMSprop\n",
        "from tensorflow.keras.preprocessing.image import ImageDataGenerator"
      ],
      "execution_count": null,
      "outputs": []
    },
    {
      "cell_type": "code",
      "metadata": {
        "id": "Bqld1GR37toE"
      },
      "source": [
        "local_zip = '/tmp/cats_and_dogs_filtered.zip'\n",
        "zip_ref = zipfile.ZipFile(local_zip, 'r')\n",
        "zip_ref.extractall('/tmp')\n",
        "zip_ref.close()"
      ],
      "execution_count": null,
      "outputs": []
    },
    {
      "cell_type": "code",
      "metadata": {
        "id": "SOu0JbLl7xzO"
      },
      "source": [
        "base_dir = '/tmp/cats_and_dogs_filtered'\n",
        "train_dir = os.path.join(base_dir, 'train')\n",
        "validation_dir = os.path.join(base_dir, 'validation')"
      ],
      "execution_count": null,
      "outputs": []
    },
    {
      "cell_type": "code",
      "metadata": {
        "id": "XGZ6dnjH71AA"
      },
      "source": [
        "train_cats_dir = os.path.join(train_dir, 'cats')\n",
        "\n",
        "# Directory with our training dog pictures\n",
        "train_dogs_dir = os.path.join(train_dir, 'dogs')\n",
        "\n",
        "# Directory with our validation cat pictures\n",
        "validation_cats_dir = os.path.join(validation_dir, 'cats')\n",
        "\n",
        "# Directory with our validation dog pictures\n",
        "validation_dogs_dir = os.path.join(validation_dir, 'dogs')"
      ],
      "execution_count": null,
      "outputs": []
    },
    {
      "cell_type": "code",
      "metadata": {
        "id": "S9604x8074od"
      },
      "source": [
        "model = tf.keras.models.Sequential([\n",
        "    tf.keras.layers.Conv2D(32, (3,3), activation='relu', input_shape=(150, 150, 3)),\n",
        "    tf.keras.layers.MaxPooling2D(2, 2),\n",
        "    tf.keras.layers.Conv2D(64, (3,3), activation='relu'),\n",
        "    tf.keras.layers.MaxPooling2D(2,2),\n",
        "    tf.keras.layers.Conv2D(128, (3,3), activation='relu'),\n",
        "    tf.keras.layers.MaxPooling2D(2,2),\n",
        "    tf.keras.layers.Conv2D(128, (3,3), activation='relu'),\n",
        "    tf.keras.layers.MaxPooling2D(2,2),\n",
        "    tf.keras.layers.Flatten(),\n",
        "    tf.keras.layers.Dense(512, activation='relu'),\n",
        "    tf.keras.layers.Dense(1, activation='sigmoid')\n",
        "])"
      ],
      "execution_count": null,
      "outputs": []
    },
    {
      "cell_type": "code",
      "metadata": {
        "colab": {
          "base_uri": "https://localhost:8080/"
        },
        "id": "bMcbmSvn8Nma",
        "outputId": "7f7a3708-e341-4c36-99f2-b62d5ae51503"
      },
      "source": [
        "model.compile(loss='binary_crossentropy',\n",
        "              optimizer=RMSprop(lr=1e-4),\n",
        "              metrics=['accuracy'])"
      ],
      "execution_count": null,
      "outputs": [
        {
          "name": "stderr",
          "output_type": "stream",
          "text": [
            "/usr/local/lib/python3.7/dist-packages/keras/optimizer_v2/rmsprop.py:130: UserWarning: The `lr` argument is deprecated, use `learning_rate` instead.\n",
            "  super(RMSprop, self).__init__(name, **kwargs)\n"
          ]
        }
      ]
    },
    {
      "cell_type": "code",
      "metadata": {
        "id": "dSWetsJb8Q7K"
      },
      "source": [
        "train_datagen = ImageDataGenerator(rescale=1./255)\n",
        "test_datagen = ImageDataGenerator(rescale=1./255)"
      ],
      "execution_count": null,
      "outputs": []
    },
    {
      "cell_type": "code",
      "metadata": {
        "colab": {
          "base_uri": "https://localhost:8080/"
        },
        "id": "2__Kir-v8UJZ",
        "outputId": "00911fe0-dc19-4040-8004-35f8d7db062f"
      },
      "source": [
        "train_generator = train_datagen.flow_from_directory(\n",
        "        train_dir,  # This is the source directory for training images\n",
        "        target_size=(150, 150),  # All images will be resized to 150x150\n",
        "        batch_size=20,\n",
        "        # Since we use binary_crossentropy loss, we need binary labels\n",
        "        class_mode='binary')\n",
        "\n",
        "# Flow validation images in batches of 20 using test_datagen generator\n",
        "validation_generator = test_datagen.flow_from_directory(\n",
        "        validation_dir,\n",
        "        target_size=(150, 150),\n",
        "        batch_size=20,\n",
        "        class_mode='binary')\n"
      ],
      "execution_count": null,
      "outputs": [
        {
          "name": "stdout",
          "output_type": "stream",
          "text": [
            "Found 2000 images belonging to 2 classes.\n",
            "Found 1000 images belonging to 2 classes.\n"
          ]
        }
      ]
    },
    {
      "cell_type": "code",
      "metadata": {
        "colab": {
          "base_uri": "https://localhost:8080/"
        },
        "id": "I7Un9bR28Wxd",
        "outputId": "5a3f1e41-adb1-44e0-c763-4bdd29b2085a"
      },
      "source": [
        "history = model.fit(\n",
        "      train_generator,\n",
        "      steps_per_epoch=100,  # 2000 images = batch_size * steps\n",
        "      epochs=50,\n",
        "      validation_data=validation_generator,\n",
        "      validation_steps=50,  # 1000 images = batch_size * steps\n",
        "      verbose=2)"
      ],
      "execution_count": null,
      "outputs": [
        {
          "name": "stdout",
          "output_type": "stream",
          "text": [
            "Epoch 1/50\n",
            "100/100 - 98s - loss: 0.6780 - accuracy: 0.5680 - val_loss: 0.6932 - val_accuracy: 0.5210 - 98s/epoch - 982ms/step\n",
            "Epoch 2/50\n",
            "100/100 - 98s - loss: 0.6317 - accuracy: 0.6395 - val_loss: 0.6085 - val_accuracy: 0.6610 - 98s/epoch - 980ms/step\n",
            "Epoch 3/50\n",
            "100/100 - 98s - loss: 0.5864 - accuracy: 0.6895 - val_loss: 0.6007 - val_accuracy: 0.6660 - 98s/epoch - 978ms/step\n",
            "Epoch 4/50\n",
            "100/100 - 98s - loss: 0.5562 - accuracy: 0.7145 - val_loss: 0.5799 - val_accuracy: 0.6940 - 98s/epoch - 982ms/step\n",
            "Epoch 5/50\n",
            "100/100 - 98s - loss: 0.5272 - accuracy: 0.7280 - val_loss: 0.5874 - val_accuracy: 0.6810 - 98s/epoch - 983ms/step\n",
            "Epoch 6/50\n",
            "100/100 - 98s - loss: 0.5111 - accuracy: 0.7460 - val_loss: 0.5558 - val_accuracy: 0.7190 - 98s/epoch - 982ms/step\n",
            "Epoch 7/50\n",
            "100/100 - 98s - loss: 0.4820 - accuracy: 0.7745 - val_loss: 0.5473 - val_accuracy: 0.7260 - 98s/epoch - 984ms/step\n",
            "Epoch 8/50\n",
            "100/100 - 98s - loss: 0.4547 - accuracy: 0.7885 - val_loss: 0.5518 - val_accuracy: 0.7240 - 98s/epoch - 982ms/step\n",
            "Epoch 9/50\n",
            "100/100 - 98s - loss: 0.4327 - accuracy: 0.7835 - val_loss: 0.5341 - val_accuracy: 0.7390 - 98s/epoch - 983ms/step\n",
            "Epoch 10/50\n",
            "100/100 - 98s - loss: 0.4072 - accuracy: 0.8165 - val_loss: 0.5381 - val_accuracy: 0.7350 - 98s/epoch - 983ms/step\n",
            "Epoch 11/50\n",
            "100/100 - 98s - loss: 0.3837 - accuracy: 0.8250 - val_loss: 0.5601 - val_accuracy: 0.7230 - 98s/epoch - 983ms/step\n",
            "Epoch 12/50\n",
            "100/100 - 98s - loss: 0.3649 - accuracy: 0.8370 - val_loss: 0.5230 - val_accuracy: 0.7540 - 98s/epoch - 982ms/step\n",
            "Epoch 13/50\n",
            "100/100 - 98s - loss: 0.3386 - accuracy: 0.8505 - val_loss: 0.5946 - val_accuracy: 0.7220 - 98s/epoch - 981ms/step\n",
            "Epoch 14/50\n",
            "100/100 - 98s - loss: 0.3196 - accuracy: 0.8595 - val_loss: 0.5441 - val_accuracy: 0.7450 - 98s/epoch - 982ms/step\n",
            "Epoch 15/50\n",
            "100/100 - 99s - loss: 0.3037 - accuracy: 0.8770 - val_loss: 0.5375 - val_accuracy: 0.7450 - 99s/epoch - 986ms/step\n",
            "Epoch 16/50\n",
            "100/100 - 98s - loss: 0.2759 - accuracy: 0.8840 - val_loss: 0.5734 - val_accuracy: 0.7440 - 98s/epoch - 985ms/step\n",
            "Epoch 17/50\n",
            "100/100 - 98s - loss: 0.2572 - accuracy: 0.8970 - val_loss: 0.5601 - val_accuracy: 0.7510 - 98s/epoch - 983ms/step\n",
            "Epoch 18/50\n",
            "100/100 - 98s - loss: 0.2322 - accuracy: 0.9100 - val_loss: 0.5558 - val_accuracy: 0.7520 - 98s/epoch - 983ms/step\n",
            "Epoch 19/50\n",
            "100/100 - 98s - loss: 0.2133 - accuracy: 0.9180 - val_loss: 0.5719 - val_accuracy: 0.7540 - 98s/epoch - 985ms/step\n",
            "Epoch 20/50\n",
            "100/100 - 99s - loss: 0.1996 - accuracy: 0.9290 - val_loss: 0.5924 - val_accuracy: 0.7570 - 99s/epoch - 986ms/step\n",
            "Epoch 21/50\n",
            "100/100 - 99s - loss: 0.1731 - accuracy: 0.9385 - val_loss: 0.6485 - val_accuracy: 0.7440 - 99s/epoch - 987ms/step\n",
            "Epoch 22/50\n",
            "100/100 - 99s - loss: 0.1592 - accuracy: 0.9400 - val_loss: 0.6554 - val_accuracy: 0.7500 - 99s/epoch - 986ms/step\n",
            "Epoch 23/50\n",
            "100/100 - 99s - loss: 0.1443 - accuracy: 0.9550 - val_loss: 0.6598 - val_accuracy: 0.7490 - 99s/epoch - 987ms/step\n",
            "Epoch 24/50\n",
            "100/100 - 99s - loss: 0.1294 - accuracy: 0.9565 - val_loss: 0.6846 - val_accuracy: 0.7460 - 99s/epoch - 991ms/step\n",
            "Epoch 25/50\n",
            "100/100 - 99s - loss: 0.1071 - accuracy: 0.9685 - val_loss: 0.6841 - val_accuracy: 0.7550 - 99s/epoch - 989ms/step\n",
            "Epoch 26/50\n",
            "100/100 - 99s - loss: 0.1055 - accuracy: 0.9645 - val_loss: 0.6607 - val_accuracy: 0.7540 - 99s/epoch - 988ms/step\n",
            "Epoch 27/50\n",
            "100/100 - 99s - loss: 0.0805 - accuracy: 0.9785 - val_loss: 0.7910 - val_accuracy: 0.7380 - 99s/epoch - 988ms/step\n",
            "Epoch 28/50\n",
            "100/100 - 99s - loss: 0.0771 - accuracy: 0.9740 - val_loss: 0.7437 - val_accuracy: 0.7650 - 99s/epoch - 989ms/step\n",
            "Epoch 29/50\n",
            "100/100 - 98s - loss: 0.0686 - accuracy: 0.9795 - val_loss: 0.7438 - val_accuracy: 0.7560 - 98s/epoch - 984ms/step\n",
            "Epoch 30/50\n",
            "100/100 - 100s - loss: 0.0573 - accuracy: 0.9825 - val_loss: 0.7947 - val_accuracy: 0.7500 - 100s/epoch - 999ms/step\n",
            "Epoch 31/50\n",
            "100/100 - 99s - loss: 0.0500 - accuracy: 0.9870 - val_loss: 0.8317 - val_accuracy: 0.7570 - 99s/epoch - 989ms/step\n",
            "Epoch 32/50\n",
            "100/100 - 99s - loss: 0.0459 - accuracy: 0.9875 - val_loss: 0.8473 - val_accuracy: 0.7590 - 99s/epoch - 987ms/step\n",
            "Epoch 33/50\n",
            "100/100 - 99s - loss: 0.0358 - accuracy: 0.9935 - val_loss: 1.0552 - val_accuracy: 0.7360 - 99s/epoch - 986ms/step\n",
            "Epoch 34/50\n",
            "100/100 - 99s - loss: 0.0313 - accuracy: 0.9945 - val_loss: 0.9082 - val_accuracy: 0.7540 - 99s/epoch - 986ms/step\n",
            "Epoch 35/50\n",
            "100/100 - 98s - loss: 0.0279 - accuracy: 0.9935 - val_loss: 0.9047 - val_accuracy: 0.7660 - 98s/epoch - 985ms/step\n",
            "Epoch 36/50\n",
            "100/100 - 99s - loss: 0.0241 - accuracy: 0.9925 - val_loss: 0.9515 - val_accuracy: 0.7530 - 99s/epoch - 988ms/step\n",
            "Epoch 37/50\n",
            "100/100 - 99s - loss: 0.0202 - accuracy: 0.9950 - val_loss: 1.0179 - val_accuracy: 0.7560 - 99s/epoch - 987ms/step\n",
            "Epoch 38/50\n",
            "100/100 - 98s - loss: 0.0174 - accuracy: 0.9965 - val_loss: 1.0368 - val_accuracy: 0.7530 - 98s/epoch - 984ms/step\n",
            "Epoch 39/50\n",
            "100/100 - 99s - loss: 0.0173 - accuracy: 0.9960 - val_loss: 1.0615 - val_accuracy: 0.7620 - 99s/epoch - 986ms/step\n",
            "Epoch 40/50\n",
            "100/100 - 98s - loss: 0.0155 - accuracy: 0.9960 - val_loss: 1.0408 - val_accuracy: 0.7710 - 98s/epoch - 985ms/step\n",
            "Epoch 41/50\n",
            "100/100 - 99s - loss: 0.0159 - accuracy: 0.9970 - val_loss: 1.0596 - val_accuracy: 0.7650 - 99s/epoch - 986ms/step\n",
            "Epoch 42/50\n",
            "100/100 - 98s - loss: 0.0197 - accuracy: 0.9955 - val_loss: 1.1631 - val_accuracy: 0.7710 - 98s/epoch - 983ms/step\n",
            "Epoch 43/50\n",
            "100/100 - 98s - loss: 0.0134 - accuracy: 0.9970 - val_loss: 1.1090 - val_accuracy: 0.7580 - 98s/epoch - 985ms/step\n",
            "Epoch 44/50\n",
            "100/100 - 98s - loss: 0.0087 - accuracy: 0.9980 - val_loss: 1.2300 - val_accuracy: 0.7580 - 98s/epoch - 985ms/step\n",
            "Epoch 45/50\n",
            "100/100 - 99s - loss: 0.0175 - accuracy: 0.9960 - val_loss: 1.1740 - val_accuracy: 0.7720 - 99s/epoch - 988ms/step\n",
            "Epoch 46/50\n",
            "100/100 - 98s - loss: 0.0139 - accuracy: 0.9980 - val_loss: 1.1976 - val_accuracy: 0.7620 - 98s/epoch - 984ms/step\n",
            "Epoch 47/50\n",
            "100/100 - 98s - loss: 0.0158 - accuracy: 0.9970 - val_loss: 1.2296 - val_accuracy: 0.7660 - 98s/epoch - 984ms/step\n",
            "Epoch 48/50\n",
            "100/100 - 99s - loss: 0.0164 - accuracy: 0.9935 - val_loss: 1.2379 - val_accuracy: 0.7630 - 99s/epoch - 986ms/step\n",
            "Epoch 49/50\n",
            "100/100 - 99s - loss: 0.0062 - accuracy: 0.9985 - val_loss: 1.4876 - val_accuracy: 0.7390 - 99s/epoch - 986ms/step\n",
            "Epoch 50/50\n",
            "100/100 - 99s - loss: 0.0065 - accuracy: 0.9980 - val_loss: 1.2607 - val_accuracy: 0.7570 - 99s/epoch - 985ms/step\n"
          ]
        }
      ]
    },
    {
      "cell_type": "code",
      "metadata": {
        "colab": {
          "base_uri": "https://localhost:8080/",
          "height": 545
        },
        "id": "44yUnkNU8bKT",
        "outputId": "9946bbd7-ca03-40f0-ceb6-9a442c2135b1"
      },
      "source": [
        "import matplotlib.pyplot as plt\n",
        "acc = history.history['accuracy']\n",
        "val_acc = history.history['val_accuracy']\n",
        "loss = history.history['loss']\n",
        "val_loss = history.history['val_loss']\n",
        "\n",
        "epochs = range(len(acc))\n",
        "\n",
        "plt.plot(epochs, acc, 'bo', label='Training accuracy')\n",
        "plt.plot(epochs, val_acc, 'b', label='Validation accuracy')\n",
        "plt.title('Training and validation accuracy')\n",
        "\n",
        "plt.figure()\n",
        "\n",
        "plt.plot(epochs, loss, 'bo', label='Training Loss')\n",
        "plt.plot(epochs, val_loss, 'b', label='Validation Loss')\n",
        "plt.title('Training and validation loss')\n",
        "plt.legend()\n",
        "\n",
        "plt.show()"
      ],
      "execution_count": null,
      "outputs": [
        {
          "data": {
            "image/png": "[encoded data removed]",
            "text/plain": [
              "<Figure size 432x288 with 1 Axes>"
            ]
          },
          "metadata": {},
          "output_type": "display_data"
        },
        {
          "data": {
            "image/png": "[encoded data removed]",
            "text/plain": [
              "<Figure size 432x288 with 1 Axes>"
            ]
          },
          "metadata": {},
          "output_type": "display_data"
        }
      ]
    },
    {
      "cell_type": "code",
      "metadata": {
        "id": "eAWpa7AbXrhh"
      },
      "source": [
        "train_datagen = ImageDataGenerator(\n",
        "      rotation_range=40,\n",
        "      width_shift_range=0.2,\n",
        "      height_shift_range=0.2,\n",
        "      shear_range=0.2,\n",
        "      zoom_range=0.2,\n",
        "      horizontal_flip=True,\n",
        "      fill_mode='nearest')"
      ],
      "execution_count": null,
      "outputs": []
    },
    {
      "cell_type": "code",
      "metadata": {
        "colab": {
          "base_uri": "https://localhost:8080/"
        },
        "id": "oNK807QMXwin",
        "outputId": "b0998dc8-3c1f-4cf0-e59a-658f99db24a7"
      },
      "source": [
        "train_generator = train_datagen.flow_from_directory(\n",
        "        train_dir,  # This is the source directory for training images\n",
        "        target_size=(150, 150),  # All images will be resized to 150x150\n",
        "        batch_size=20,\n",
        "        # Since we use binary_crossentropy loss, we need binary labels\n",
        "        class_mode='binary')"
      ],
      "execution_count": null,
      "outputs": [
        {
          "name": "stdout",
          "output_type": "stream",
          "text": [
            "Found 2000 images belonging to 2 classes.\n"
          ]
        }
      ]
    },
    {
      "cell_type": "code",
      "metadata": {
        "colab": {
          "background_save": true,
          "base_uri": "https://localhost:8080/"
        },
        "id": "KFmBVEQ9X_2Y",
        "outputId": "8ab1a64b-99f1-46e8-d098-570525c82619"
      },
      "source": [
        "history = model.fit(\n",
        "      train_generator,\n",
        "      steps_per_epoch=100,  # 2000 images = batch_size * steps\n",
        "      epochs=30,\n",
        "      validation_data=validation_generator,\n",
        "      validation_steps=50,  # 1000 images = batch_size * steps\n",
        "      verbose=2)"
      ],
      "execution_count": null,
      "outputs": [
        {
          "name": "stdout",
          "output_type": "stream",
          "text": [
            "Epoch 1/30\n",
            "100/100 - 107s - loss: 109.6622 - accuracy: 0.6350 - val_loss: 0.6193 - val_accuracy: 0.6300 - 107s/epoch - 1s/step\n",
            "Epoch 2/30\n",
            "100/100 - 106s - loss: 7.1897 - accuracy: 0.5940 - val_loss: 0.6683 - val_accuracy: 0.5650 - 106s/epoch - 1s/step\n",
            "Epoch 3/30\n",
            "100/100 - 106s - loss: 2.5004 - accuracy: 0.6010 - val_loss: 0.6790 - val_accuracy: 0.5430 - 106s/epoch - 1s/step\n",
            "Epoch 4/30\n",
            "100/100 - 105s - loss: 1.2356 - accuracy: 0.5820 - val_loss: 0.6827 - val_accuracy: 0.5050 - 105s/epoch - 1s/step\n",
            "Epoch 5/30\n",
            "100/100 - 108s - loss: 0.8047 - accuracy: 0.5835 - val_loss: 0.6840 - val_accuracy: 0.5020 - 108s/epoch - 1s/step\n",
            "Epoch 6/30\n",
            "100/100 - 106s - loss: 0.7438 - accuracy: 0.5875 - val_loss: 0.6835 - val_accuracy: 0.5060 - 106s/epoch - 1s/step\n",
            "Epoch 7/30\n",
            "100/100 - 105s - loss: 0.7075 - accuracy: 0.6000 - val_loss: 0.6817 - val_accuracy: 0.5090 - 105s/epoch - 1s/step\n",
            "Epoch 8/30\n",
            "100/100 - 105s - loss: 0.7011 - accuracy: 0.6145 - val_loss: 0.6802 - val_accuracy: 0.5010 - 105s/epoch - 1s/step\n",
            "Epoch 9/30\n",
            "100/100 - 105s - loss: 0.6828 - accuracy: 0.6155 - val_loss: 0.6810 - val_accuracy: 0.5010 - 105s/epoch - 1s/step\n",
            "Epoch 10/30\n",
            "100/100 - 105s - loss: 0.6592 - accuracy: 0.6310 - val_loss: 0.6818 - val_accuracy: 0.5000 - 105s/epoch - 1s/step\n",
            "Epoch 11/30\n",
            "100/100 - 105s - loss: 0.6568 - accuracy: 0.6350 - val_loss: 0.6846 - val_accuracy: 0.5010 - 105s/epoch - 1s/step\n",
            "Epoch 12/30\n",
            "100/100 - 105s - loss: 0.6293 - accuracy: 0.6520 - val_loss: 0.6824 - val_accuracy: 0.5150 - 105s/epoch - 1s/step\n",
            "Epoch 13/30\n",
            "100/100 - 105s - loss: 0.6591 - accuracy: 0.6555 - val_loss: 0.6877 - val_accuracy: 0.5000 - 105s/epoch - 1s/step\n",
            "Epoch 14/30\n",
            "100/100 - 105s - loss: 0.6404 - accuracy: 0.6535 - val_loss: 0.6829 - val_accuracy: 0.5000 - 105s/epoch - 1s/step\n",
            "Epoch 15/30\n",
            "100/100 - 105s - loss: 0.6257 - accuracy: 0.6695 - val_loss: 0.6794 - val_accuracy: 0.5000 - 105s/epoch - 1s/step\n",
            "Epoch 16/30\n",
            "100/100 - 105s - loss: 0.6284 - accuracy: 0.6665 - val_loss: 0.6809 - val_accuracy: 0.5010 - 105s/epoch - 1s/step\n",
            "Epoch 17/30\n",
            "100/100 - 105s - loss: 0.6157 - accuracy: 0.6745 - val_loss: 0.6820 - val_accuracy: 0.5000 - 105s/epoch - 1s/step\n",
            "Epoch 18/30\n",
            "100/100 - 105s - loss: 0.6160 - accuracy: 0.6740 - val_loss: 0.6820 - val_accuracy: 0.5040 - 105s/epoch - 1s/step\n",
            "Epoch 19/30\n",
            "100/100 - 105s - loss: 0.6115 - accuracy: 0.6815 - val_loss: 0.6810 - val_accuracy: 0.5010 - 105s/epoch - 1s/step\n",
            "Epoch 20/30\n",
            "100/100 - 104s - loss: 0.6019 - accuracy: 0.6895 - val_loss: 0.6794 - val_accuracy: 0.5000 - 104s/epoch - 1s/step\n",
            "Epoch 21/30\n",
            "100/100 - 104s - loss: 0.6084 - accuracy: 0.6770 - val_loss: 0.6797 - val_accuracy: 0.5000 - 104s/epoch - 1s/step\n",
            "Epoch 22/30\n",
            "100/100 - 105s - loss: 0.5995 - accuracy: 0.6865 - val_loss: 0.6797 - val_accuracy: 0.5000 - 105s/epoch - 1s/step\n",
            "Epoch 23/30\n",
            "100/100 - 105s - loss: 0.5942 - accuracy: 0.6890 - val_loss: 0.6798 - val_accuracy: 0.5000 - 105s/epoch - 1s/step\n",
            "Epoch 24/30\n",
            "100/100 - 105s - loss: 0.6063 - accuracy: 0.6905 - val_loss: 0.6798 - val_accuracy: 0.5070 - 105s/epoch - 1s/step\n",
            "Epoch 25/30\n",
            "100/100 - 105s - loss: 0.5818 - accuracy: 0.7095 - val_loss: 0.6821 - val_accuracy: 0.5040 - 105s/epoch - 1s/step\n",
            "Epoch 26/30\n",
            "100/100 - 104s - loss: 0.5916 - accuracy: 0.6995 - val_loss: 0.6815 - val_accuracy: 0.5000 - 104s/epoch - 1s/step\n",
            "Epoch 27/30\n",
            "100/100 - 104s - loss: 0.5873 - accuracy: 0.6980 - val_loss: 0.6794 - val_accuracy: 0.5000 - 104s/epoch - 1s/step\n",
            "Epoch 28/30\n",
            "100/100 - 105s - loss: 0.5718 - accuracy: 0.7030 - val_loss: 0.6847 - val_accuracy: 0.5030 - 105s/epoch - 1s/step\n",
            "Epoch 29/30\n",
            "100/100 - 104s - loss: 0.5788 - accuracy: 0.6995 - val_loss: 0.6835 - val_accuracy: 0.5000 - 104s/epoch - 1s/step\n",
            "Epoch 30/30\n",
            "100/100 - 104s - loss: 0.5819 - accuracy: 0.7165 - val_loss: 0.6837 - val_accuracy: 0.5000 - 104s/epoch - 1s/step\n"
          ]
        }
      ]
    },
    {
      "cell_type": "code",
      "metadata": {
        "id": "rMkn5r4rYC--"
      },
      "source": [
        ""
      ],
      "execution_count": null,
      "outputs": []
    }
  ]
}