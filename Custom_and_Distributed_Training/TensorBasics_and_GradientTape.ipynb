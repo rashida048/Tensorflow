{
  "nbformat": 4,
  "nbformat_minor": 0,
  "metadata": {
    "colab": {
      "provenance": [],
      "authorship_tag": "ABX9TyPTGq0ZZm3i345AcRz8uzbt",
      "include_colab_link": true
    },
    "kernelspec": {
      "name": "python3",
      "display_name": "Python 3"
    },
    "language_info": {
      "name": "python"
    }
  },
  "cells": [
    {
      "cell_type": "markdown",
      "metadata": {
        "id": "view-in-github",
        "colab_type": "text"
      },
      "source": [
        "<a href=\"https://colab.research.google.com/github/rashida048/Tensorflow/blob/main/Custom_and_Distributed_Training/TensorBasics_and_GradientTape.ipynb\" target=\"_parent\"><img src=\"https://colab.research.google.com/assets/colab-badge.svg\" alt=\"Open In Colab\"/></a>"
      ]
    },
    {
      "cell_type": "code",
      "execution_count": 1,
      "metadata": {
        "id": "SF6aQ1i0JWss"
      },
      "outputs": [],
      "source": [
        "import tensorflow as tf\n",
        "import numpy as np"
      ]
    },
    {
      "cell_type": "code",
      "source": [
        "def tf_constant(array):\n",
        "  return tf.constant(array)"
      ],
      "metadata": {
        "id": "HAQQEMU6JYoG"
      },
      "execution_count": 2,
      "outputs": []
    },
    {
      "cell_type": "code",
      "source": [
        "tar = np.arange(1, 10)\n",
        "x = tf_constant(tar)\n",
        "x"
      ],
      "metadata": {
        "colab": {
          "base_uri": "https://localhost:8080/"
        },
        "id": "jObb5oNgOCZS",
        "outputId": "6ff64339-05ac-4918-ffec-815ed8701a2c"
      },
      "execution_count": 3,
      "outputs": [
        {
          "output_type": "execute_result",
          "data": {
            "text/plain": [
              "<tf.Tensor: shape=(9,), dtype=int64, numpy=array([1, 2, 3, 4, 5, 6, 7, 8, 9])>"
            ]
          },
          "metadata": {},
          "execution_count": 3
        }
      ]
    },
    {
      "cell_type": "code",
      "source": [
        "\n",
        "def tf_cube(ar):\n",
        "  ar = tf.constant(ar) \n",
        "  tf_squared_ar = ar**2 \n",
        "  return tf_squared_ar               "
      ],
      "metadata": {
        "id": "xq6YS2TKOJDK"
      },
      "execution_count": 4,
      "outputs": []
    },
    {
      "cell_type": "code",
      "source": [
        "tar = np.arange(1, 10)\n",
        "x = tf_cube(tar)\n",
        "x"
      ],
      "metadata": {
        "colab": {
          "base_uri": "https://localhost:8080/"
        },
        "id": "cEPt3E8KS7gr",
        "outputId": "f963e34a-1e65-45e1-a91d-bd76f01b99d7"
      },
      "execution_count": 5,
      "outputs": [
        {
          "output_type": "execute_result",
          "data": {
            "text/plain": [
              "<tf.Tensor: shape=(9,), dtype=int64, numpy=array([ 1,  4,  9, 16, 25, 36, 49, 64, 81])>"
            ]
          },
          "metadata": {},
          "execution_count": 5
        }
      ]
    },
    {
      "cell_type": "code",
      "source": [
        "def tf_reshape(array, shape):\n",
        "    \"\"\"\n",
        "    Args:\n",
        "        array (EagerTensor): tensor to reshape.\n",
        "        shape (tuple): desired shape.\n",
        "\n",
        "    Returns:\n",
        "        EagerTensor: reshaped tensor.\n",
        "    \"\"\"\n",
        "    # make sure it's a tensor\n",
        "    array = tf.constant(array)\n",
        "    ### START CODE HERE ###\n",
        "    tf_reshaped_array = tf.reshape(array, shape = shape)  \n",
        "    ### END CODE HERE ###\n",
        "    return tf_reshaped_array"
      ],
      "metadata": {
        "id": "sQv4N1IeTAlq"
      },
      "execution_count": 6,
      "outputs": []
    },
    {
      "cell_type": "code",
      "source": [
        "tmp_array = np.array([1,2,3,4,5,6,7,8,9])\n",
        "# Check that your function reshapes a vector into a matrix\n",
        "x = tf_reshape(tmp_array, (3, 3))\n",
        "x"
      ],
      "metadata": {
        "colab": {
          "base_uri": "https://localhost:8080/"
        },
        "id": "ZhEcMEDfVabc",
        "outputId": "e704113e-67b5-41ab-ef37-cac7480f879f"
      },
      "execution_count": 7,
      "outputs": [
        {
          "output_type": "execute_result",
          "data": {
            "text/plain": [
              "<tf.Tensor: shape=(3, 3), dtype=int64, numpy=\n",
              "array([[1, 2, 3],\n",
              "       [4, 5, 6],\n",
              "       [7, 8, 9]])>"
            ]
          },
          "metadata": {},
          "execution_count": 7
        }
      ]
    },
    {
      "cell_type": "code",
      "source": [
        "def tf_cast(array, dtype):\n",
        "  array = tf.constant(array)\n",
        "  tf_cast_array = tf.cast(array, dtype = tf.uint32)\n",
        "  return tf_cast_array"
      ],
      "metadata": {
        "id": "wm99m_dmVb3V"
      },
      "execution_count": 10,
      "outputs": []
    },
    {
      "cell_type": "code",
      "source": [
        "tmp_array=[1, 2, 3, 4]\n",
        "x = tf_cast(tmp_array, tf.float32)\n",
        "x"
      ],
      "metadata": {
        "colab": {
          "base_uri": "https://localhost:8080/"
        },
        "id": "v9G3yVxq_5nY",
        "outputId": "8748cb3c-424d-45ff-f8b2-73e5a4dd282b"
      },
      "execution_count": 11,
      "outputs": [
        {
          "output_type": "execute_result",
          "data": {
            "text/plain": [
              "<tf.Tensor: shape=(4,), dtype=uint32, numpy=array([1, 2, 3, 4], dtype=uint32)>"
            ]
          },
          "metadata": {},
          "execution_count": 11
        }
      ]
    },
    {
      "cell_type": "code",
      "source": [
        "def tf_multiply(tensor1, tensor2):\n",
        "  tensor1 = tf.constant(tensor1)\n",
        "  tensor2 = tf.constant(tensor2)\n",
        "\n",
        "  product = tf.multiply(tensor1, tensor2)\n",
        "\n",
        "  return product"
      ],
      "metadata": {
        "id": "wnFEy8GvIm0j"
      },
      "execution_count": 12,
      "outputs": []
    },
    {
      "cell_type": "code",
      "source": [
        "tmp_1 = tf.constant(np.array([[1, 2], [3, 4]]))\n",
        "tmp_2 =tf.constant(np.array(2))\n",
        "result = tf.multiply(tmp_1, tmp_2)\n",
        "result"
      ],
      "metadata": {
        "colab": {
          "base_uri": "https://localhost:8080/"
        },
        "id": "J1HbWhnRJShT",
        "outputId": "7717b84b-649a-469d-e5af-b67c104b1436"
      },
      "execution_count": 14,
      "outputs": [
        {
          "output_type": "execute_result",
          "data": {
            "text/plain": [
              "<tf.Tensor: shape=(2, 2), dtype=int64, numpy=\n",
              "array([[2, 4],\n",
              "       [6, 8]])>"
            ]
          },
          "metadata": {},
          "execution_count": 14
        }
      ]
    },
    {
      "cell_type": "code",
      "source": [
        "# Add tensor1 and tensor2\n",
        "def tf_add(tensor1, tensor2):\n",
        "    \"\"\"\n",
        "    Args:\n",
        "        tensor1 (EagerTensor): a tensor.\n",
        "        tensor2 (EagerTensor): another tensor.\n",
        "\n",
        "    Returns:\n",
        "        EagerTensor: resulting tensor.\n",
        "    \"\"\"\n",
        "    # make sure these are tensors\n",
        "    tensor1 = tf.constant(tensor1)\n",
        "    tensor2 = tf.constant(tensor2)\n",
        "    \n",
        "    ### START CODE HERE ###\n",
        "    total = tf.add(tensor1, tensor2) \n",
        "    ### END CODE HERE ###\n",
        "    return total"
      ],
      "metadata": {
        "id": "Bx6VZ_lRKl0_"
      },
      "execution_count": 15,
      "outputs": []
    },
    {
      "cell_type": "code",
      "source": [
        "# Check your function\n",
        "tmp_1 = tf.constant(np.array([1, 2, 3]))\n",
        "tmp_2 = tf.constant(np.array([4, 5, 6]))\n",
        "tf_add(tmp_1, tmp_2)\n",
        "\n",
        "# Expected output:\n",
        "# <tf.Tensor: shape=(3,), dtype=int64, numpy=array([5, 7, 9])>"
      ],
      "metadata": {
        "colab": {
          "base_uri": "https://localhost:8080/"
        },
        "id": "cCfvAERlKvcj",
        "outputId": "f4227b4c-2c26-4b9e-d090-30c7708737a1"
      },
      "execution_count": 16,
      "outputs": [
        {
          "output_type": "execute_result",
          "data": {
            "text/plain": [
              "<tf.Tensor: shape=(3,), dtype=int64, numpy=array([5, 7, 9])>"
            ]
          },
          "metadata": {},
          "execution_count": 16
        }
      ]
    },
    {
      "cell_type": "code",
      "source": [
        "def tf_gradient_tape(x):\n",
        "    \"\"\"\n",
        "    Args:\n",
        "        x (EagerTensor): a tensor.\n",
        "\n",
        "    Returns:\n",
        "        EagerTensor: Derivative of z with respect to the input tensor x.\n",
        "    \"\"\"\n",
        "    with tf.GradientTape() as t:\n",
        "        \n",
        "    ### START CODE HERE ###\n",
        "        # Record the actions performed on tensor x with `watch`\n",
        "        t.watch(x)   \n",
        "\n",
        "        # Define a polynomial of form 3x^3 - 2x^2 + x\n",
        "        y = 3*(x**3) - 2*(x**2) + x \n",
        "\n",
        "        # Obtain the sum of the elements in variable y\n",
        "        z = tf.reduce_sum(y) \n",
        "  \n",
        "    # Get the derivative of z with respect to the original input tensor x\n",
        "    dz_dx = t.gradient(z,x)\n",
        "    ### END CODE HERE\n",
        "    \n",
        "    return dz_dx"
      ],
      "metadata": {
        "id": "6tBHGTCCKw1I"
      },
      "execution_count": 17,
      "outputs": []
    },
    {
      "cell_type": "code",
      "source": [
        "# Check your function\n",
        "tmp_x = tf.constant(2.0)\n",
        "dz_dx = tf_gradient_tape(tmp_x)\n",
        "result = dz_dx.numpy()\n",
        "result\n",
        "\n",
        "# Expected output:\n",
        "# 29.0"
      ],
      "metadata": {
        "colab": {
          "base_uri": "https://localhost:8080/"
        },
        "id": "WEMFgL2wK6nz",
        "outputId": "4272751e-ab8c-4325-8495-1e63a183a11b"
      },
      "execution_count": 18,
      "outputs": [
        {
          "output_type": "execute_result",
          "data": {
            "text/plain": [
              "29.0"
            ]
          },
          "metadata": {},
          "execution_count": 18
        }
      ]
    },
    {
      "cell_type": "code",
      "source": [],
      "metadata": {
        "id": "lS99aJrAK-VT"
      },
      "execution_count": null,
      "outputs": []
    }
  ]
}