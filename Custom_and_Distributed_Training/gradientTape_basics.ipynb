{
  "nbformat": 4,
  "nbformat_minor": 0,
  "metadata": {
    "colab": {
      "provenance": [],
      "authorship_tag": "ABX9TyNTTlK4Ij1zqhYPAGnXbUQn",
      "include_colab_link": true
    },
    "kernelspec": {
      "name": "python3",
      "display_name": "Python 3"
    },
    "language_info": {
      "name": "python"
    }
  },
  "cells": [
    {
      "cell_type": "markdown",
      "metadata": {
        "id": "view-in-github",
        "colab_type": "text"
      },
      "source": [
        "<a href=\"https://colab.research.google.com/github/rashida048/Tensorflow/blob/main/Custom_and_Distributed_Training/gradientTape_basics.ipynb\" target=\"_parent\"><img src=\"https://colab.research.google.com/assets/colab-badge.svg\" alt=\"Open In Colab\"/></a>"
      ]
    },
    {
      "cell_type": "code",
      "execution_count": 1,
      "metadata": {
        "id": "BymE4khf_lMC"
      },
      "outputs": [],
      "source": [
        "import tensorflow as tf"
      ]
    },
    {
      "cell_type": "code",
      "source": [
        "x = tf.ones((2, 2))\n",
        "\n",
        "with tf.GradientTape() as t:\n",
        "  t.watch(x)\n",
        "\n",
        "  y = tf.reduce_sum(x)\n",
        "  z = tf.square(y)\n",
        "\n",
        "dz_dx = t.gradient(z, x)\n",
        "\n",
        "print(dz_dx)"
      ],
      "metadata": {
        "colab": {
          "base_uri": "https://localhost:8080/"
        },
        "id": "3dqwBrOH_vXc",
        "outputId": "3f092420-a307-4495-c44b-a0d3c20ec809"
      },
      "execution_count": 2,
      "outputs": [
        {
          "output_type": "stream",
          "name": "stdout",
          "text": [
            "tf.Tensor(\n",
            "[[8. 8.]\n",
            " [8. 8.]], shape=(2, 2), dtype=float32)\n"
          ]
        }
      ]
    },
    {
      "cell_type": "markdown",
      "source": [
        "If you want to compute multiple gradients, note that by default, GradientTape is not persistent (persistent=False). This means that the GradientTape will expire after you use it to calculate a gradient.\n",
        "\n",
        "To see this, set up gradient tape as usual and calculate a gradient, so that the gradient tape will be 'expired'."
      ],
      "metadata": {
        "id": "A2Hor-UxCmkY"
      }
    },
    {
      "cell_type": "code",
      "source": [
        "x = tf.constant(3.0)\n",
        "\n",
        "with tf.GradientTape() as t:\n",
        "  t.watch(x)\n",
        "\n",
        "  y = x*x\n",
        "  z = y*y \n",
        "\n",
        "dz_dx = t.gradient(z, x)\n",
        "print(dz_dx)"
      ],
      "metadata": {
        "colab": {
          "base_uri": "https://localhost:8080/"
        },
        "id": "S-XkdxaLCa54",
        "outputId": "2e45e6b1-e6fe-43ca-ed2b-983dd84c97a7"
      },
      "execution_count": 3,
      "outputs": [
        {
          "output_type": "stream",
          "name": "stdout",
          "text": [
            "tf.Tensor(108.0, shape=(), dtype=float32)\n"
          ]
        }
      ]
    },
    {
      "cell_type": "code",
      "source": [
        "try:\n",
        "  dy_dx = t.gradient(y, x)\n",
        "\n",
        "except RuntimeError as e:\n",
        "  print(\"The error message you get is:\")\n",
        "  print(e)"
      ],
      "metadata": {
        "colab": {
          "base_uri": "https://localhost:8080/"
        },
        "id": "tSIUq4qtC9_0",
        "outputId": "163926b1-ea66-4395-8b3e-d188a66ddd8d"
      },
      "execution_count": 4,
      "outputs": [
        {
          "output_type": "stream",
          "name": "stdout",
          "text": [
            "The error message you get is:\n",
            "A non-persistent GradientTape can only be used to compute one set of gradients (or jacobians)\n"
          ]
        }
      ]
    },
    {
      "cell_type": "code",
      "source": [
        "x = tf.constant(3.0)\n",
        "\n",
        "# Set persistent=True so that you can reuse the tape\n",
        "with tf.GradientTape(persistent=True) as t:\n",
        "    t.watch(x)\n",
        "    \n",
        "    # y = x^2\n",
        "    y = x * x\n",
        "    \n",
        "    # z = y^2\n",
        "    z = y * y\n",
        "\n",
        "# Compute dz/dx. 4 * x^3 at x = 3 --> 108.0\n",
        "dz_dx = t.gradient(z, x)\n",
        "print(dz_dx)"
      ],
      "metadata": {
        "colab": {
          "base_uri": "https://localhost:8080/"
        },
        "id": "bt2bCy36DuBI",
        "outputId": "996a7c52-8dc6-4343-9be6-0f22693a257f"
      },
      "execution_count": 5,
      "outputs": [
        {
          "output_type": "stream",
          "name": "stdout",
          "text": [
            "tf.Tensor(108.0, shape=(), dtype=float32)\n"
          ]
        }
      ]
    },
    {
      "cell_type": "code",
      "source": [
        "# You can still compute dy/dx because of the persistent flag.\n",
        "dy_dx = t.gradient(y, x)  # 6.0\n",
        "print(dy_dx)"
      ],
      "metadata": {
        "colab": {
          "base_uri": "https://localhost:8080/"
        },
        "id": "QsCKOBgcDxOY",
        "outputId": "d288e6c2-bb86-4b34-bf48-d1ae6eacfe55"
      },
      "execution_count": 6,
      "outputs": [
        {
          "output_type": "stream",
          "name": "stdout",
          "text": [
            "tf.Tensor(6.0, shape=(), dtype=float32)\n"
          ]
        }
      ]
    },
    {
      "cell_type": "code",
      "source": [
        "#Great! It still works! Delete the tape variable t once you no longer need it.\n",
        "\n",
        "del t"
      ],
      "metadata": {
        "id": "az3-YiHSD3aY"
      },
      "execution_count": 7,
      "outputs": []
    },
    {
      "cell_type": "code",
      "source": [
        "import tensorflow as tf"
      ],
      "metadata": {
        "id": "wI7-igfBD8qW"
      },
      "execution_count": 1,
      "outputs": []
    },
    {
      "cell_type": "code",
      "source": [
        "x = tf.Variable(1.0)\n",
        "\n",
        "with tf.GradientTape() as tape_2:\n",
        "  with tf.GradientTape() as tape_1:\n",
        "    y= x*x*x \n",
        "\n",
        "    dy_dx = tape_1.gradient(y, x)\n",
        "d2y_dx2 = tape_2.gradient(dy_dx, x)\n",
        "print(dy_dx)\n",
        "print(d2y_dx2)"
      ],
      "metadata": {
        "colab": {
          "base_uri": "https://localhost:8080/"
        },
        "id": "bQywhCqu9_hk",
        "outputId": "29836b93-87b9-4214-e960-0e9d2ad7fa1d"
      },
      "execution_count": 3,
      "outputs": [
        {
          "output_type": "stream",
          "name": "stdout",
          "text": [
            "tf.Tensor(3.0, shape=(), dtype=float32)\n",
            "tf.Tensor(6.0, shape=(), dtype=float32)\n"
          ]
        }
      ]
    },
    {
      "cell_type": "code",
      "source": [
        "x = tf.Variable(1.0)\n",
        "\n",
        "with tf.GradientTape() as tape_2:\n",
        "  with tf.GradientTape() as tape_1:\n",
        "    y = x*x*x \n",
        "\n",
        "dy_dx = tape_1.gradient(y, x)\n",
        "d2y_dx2 = tape_2.gradient(dy_dx, x)\n",
        "\n",
        "print(dy_dx)\n",
        "print(d2y_dx2)"
      ],
      "metadata": {
        "colab": {
          "base_uri": "https://localhost:8080/"
        },
        "id": "Eq1216AI-mOg",
        "outputId": "8839040e-8085-4a5c-c94c-06e31f574b03"
      },
      "execution_count": 4,
      "outputs": [
        {
          "output_type": "stream",
          "name": "stdout",
          "text": [
            "tf.Tensor(3.0, shape=(), dtype=float32)\n",
            "None\n"
          ]
        }
      ]
    },
    {
      "cell_type": "code",
      "source": [
        "x = tf.Variable(1.0) \n",
        "\n",
        "with tf.GradientTape(persistent = True) as tape_2:\n",
        "  with tf.GradientTape(persistent=True) as tape_1:\n",
        "    y = x*x*x \n",
        "\n",
        "dy_dx = tape_1.gradient(y, x)\n",
        "d2y_dx2 = tape_2.gradient(dy_dx, x)\n",
        "\n",
        "print(dy_dx)\n",
        "print(d2y_dx2)"
      ],
      "metadata": {
        "colab": {
          "base_uri": "https://localhost:8080/"
        },
        "id": "y7iwy8ZuAa3L",
        "outputId": "3dfd86a8-eb10-42f3-b702-2d6059740086"
      },
      "execution_count": 5,
      "outputs": [
        {
          "output_type": "stream",
          "name": "stdout",
          "text": [
            "tf.Tensor(3.0, shape=(), dtype=float32)\n",
            "None\n"
          ]
        }
      ]
    },
    {
      "cell_type": "code",
      "source": [
        "x = tf.Variable(1.0)\n",
        "\n",
        "with tf.GradientTape() as tape_2:\n",
        "    with tf.GradientTape() as tape_1:\n",
        "        y = x * x * x\n",
        "\n",
        "        dy_dx = tape_1.gradient(y, x)\n",
        "        \n",
        "        # this is acceptable\n",
        "        d2y_dx2 = tape_2.gradient(dy_dx, x)\n",
        "\n",
        "print(dy_dx)\n",
        "print(d2y_dx2)"
      ],
      "metadata": {
        "colab": {
          "base_uri": "https://localhost:8080/"
        },
        "id": "WUD_3iwJBM2Z",
        "outputId": "074628ea-cbe8-4e96-8156-64edf998aa09"
      },
      "execution_count": 6,
      "outputs": [
        {
          "output_type": "stream",
          "name": "stdout",
          "text": [
            "tf.Tensor(3.0, shape=(), dtype=float32)\n",
            "tf.Tensor(6.0, shape=(), dtype=float32)\n"
          ]
        }
      ]
    },
    {
      "cell_type": "code",
      "source": [
        "x = tf.Variable(1.0)\n",
        "\n",
        "with tf.GradientTape() as tape_2:\n",
        "    with tf.GradientTape() as tape_1:\n",
        "        y = x * x * x\n",
        "\n",
        "        dy_dx = tape_1.gradient(y, x)\n",
        "        \n",
        "    # this is also acceptable\n",
        "    d2y_dx2 = tape_2.gradient(dy_dx, x)\n",
        "\n",
        "print(dy_dx)\n",
        "print(d2y_dx2)"
      ],
      "metadata": {
        "colab": {
          "base_uri": "https://localhost:8080/"
        },
        "id": "ctfDK974FyAM",
        "outputId": "36b8cab5-1f9e-4e85-d211-9bfe72dc915e"
      },
      "execution_count": 7,
      "outputs": [
        {
          "output_type": "stream",
          "name": "stdout",
          "text": [
            "tf.Tensor(3.0, shape=(), dtype=float32)\n",
            "tf.Tensor(6.0, shape=(), dtype=float32)\n"
          ]
        }
      ]
    },
    {
      "cell_type": "code",
      "source": [
        "x = tf.Variable(1.0)\n",
        "\n",
        "with tf.GradientTape() as tape_2:\n",
        "    with tf.GradientTape() as tape_1:\n",
        "        y = x * x * x\n",
        "\n",
        "        dy_dx = tape_1.gradient(y, x)\n",
        "        \n",
        "# this is also acceptable\n",
        "d2y_dx2 = tape_2.gradient(dy_dx, x)\n",
        "\n",
        "print(dy_dx)\n",
        "print(d2y_dx2)"
      ],
      "metadata": {
        "colab": {
          "base_uri": "https://localhost:8080/"
        },
        "id": "dpcqUPgxG_ca",
        "outputId": "2cdcd600-2ff2-4078-e428-43714c44b78d"
      },
      "execution_count": 8,
      "outputs": [
        {
          "output_type": "stream",
          "name": "stdout",
          "text": [
            "tf.Tensor(3.0, shape=(), dtype=float32)\n",
            "tf.Tensor(6.0, shape=(), dtype=float32)\n"
          ]
        }
      ]
    },
    {
      "cell_type": "code",
      "source": [],
      "metadata": {
        "id": "iqfF7zwmHDF2"
      },
      "execution_count": null,
      "outputs": []
    }
  ]
}