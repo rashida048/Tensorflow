{
 "cells": [
  {
   "cell_type": "code",
   "execution_count": 1,
   "metadata": {},
   "outputs": [],
   "source": [
    "import tensorflow as tf"
   ]
  },
  {
   "cell_type": "code",
   "execution_count": 4,
   "metadata": {},
   "outputs": [],
   "source": [
    "(X_train, y_train), (X_test, y_test) = tf.keras.datasets.cifar10.load_data()"
   ]
  },
  {
   "cell_type": "code",
   "execution_count": 38,
   "metadata": {},
   "outputs": [
    {
     "data": {
      "text/plain": [
       "array([[6],\n",
       "       [9],\n",
       "       [9],\n",
       "       ...,\n",
       "       [9],\n",
       "       [1],\n",
       "       [1]], dtype=uint8)"
      ]
     },
     "execution_count": 38,
     "metadata": {},
     "output_type": "execute_result"
    }
   ],
   "source": [
    "y_train"
   ]
  },
  {
   "cell_type": "code",
   "execution_count": 6,
   "metadata": {},
   "outputs": [],
   "source": [
    "import matplotlib.pyplot as plt"
   ]
  },
  {
   "cell_type": "code",
   "execution_count": 8,
   "metadata": {},
   "outputs": [
    {
     "data": {
      "image/png": "[encoded data removed]",
      "text/plain": [
       "<Figure size 432x288 with 1 Axes>"
      ]
     },
     "metadata": {
      "needs_background": "light"
     },
     "output_type": "display_data"
    }
   ],
   "source": [
    "image=X_train[3]\n",
    "plt.imshow(image)\n",
    "plt.show()"
   ]
  },
  {
   "cell_type": "code",
   "execution_count": 9,
   "metadata": {},
   "outputs": [
    {
     "data": {
      "image/png": "[encoded data removed]",
      "text/plain": [
       "<Figure size 432x288 with 1 Axes>"
      ]
     },
     "metadata": {
      "needs_background": "light"
     },
     "output_type": "display_data"
    }
   ],
   "source": [
    "image=X_train[20]\n",
    "plt.imshow(image)\n",
    "plt.show()"
   ]
  },
  {
   "cell_type": "code",
   "execution_count": 10,
   "metadata": {},
   "outputs": [],
   "source": [
    "X_train = X_train/255\n",
    "X_test = X_test/255"
   ]
  },
  {
   "cell_type": "code",
   "execution_count": 11,
   "metadata": {},
   "outputs": [
    {
     "data": {
      "text/plain": [
       "(50000, 32, 32, 3)"
      ]
     },
     "execution_count": 11,
     "metadata": {},
     "output_type": "execute_result"
    }
   ],
   "source": [
    "X_train.shape"
   ]
  },
  {
   "cell_type": "code",
   "execution_count": 15,
   "metadata": {},
   "outputs": [],
   "source": [
    "model = tf.keras.Sequential([\n",
    "    tf.keras.layers.Conv2D(32, (3, 3), padding=\"same\",\n",
    "                          activation=\"relu\", input_shape=(32, 32, 3)),\n",
    "    tf.keras.layers.MaxPooling2D((2, 2), strides=2),\n",
    "    tf.keras.layers.Conv2D(63, (3, 3), padding=\"same\", activation=\"relu\"),\n",
    "    tf.keras.layers.MaxPooling2D((2, 2), strides=2),\n",
    "    tf.keras.layers.Flatten(),\n",
    "    tf.keras.layers.Dense(100, activation=\"relu\"),\n",
    "    tf.keras.layers.Dense(10, activation=\"softmax\")]\n",
    ")"
   ]
  },
  {
   "cell_type": "code",
   "execution_count": 16,
   "metadata": {},
   "outputs": [
    {
     "name": "stdout",
     "output_type": "stream",
     "text": [
      "Model: \"sequential\"\n",
      "_________________________________________________________________\n",
      "Layer (type)                 Output Shape              Param #   \n",
      "=================================================================\n",
      "conv2d_6 (Conv2D)            (None, 32, 32, 32)        896       \n",
      "_________________________________________________________________\n",
      "max_pooling2d_5 (MaxPooling2 (None, 16, 16, 32)        0         \n",
      "_________________________________________________________________\n",
      "conv2d_7 (Conv2D)            (None, 16, 16, 63)        18207     \n",
      "_________________________________________________________________\n",
      "max_pooling2d_6 (MaxPooling2 (None, 8, 8, 63)          0         \n",
      "_________________________________________________________________\n",
      "flatten_2 (Flatten)          (None, 4032)              0         \n",
      "_________________________________________________________________\n",
      "dense_3 (Dense)              (None, 100)               403300    \n",
      "_________________________________________________________________\n",
      "dense_4 (Dense)              (None, 10)                1010      \n",
      "=================================================================\n",
      "Total params: 423,413\n",
      "Trainable params: 423,413\n",
      "Non-trainable params: 0\n",
      "_________________________________________________________________\n"
     ]
    }
   ],
   "source": [
    "model.summary()"
   ]
  },
  {
   "cell_type": "code",
   "execution_count": 19,
   "metadata": {},
   "outputs": [
    {
     "name": "stdout",
     "output_type": "stream",
     "text": [
      "('You must install pydot (`pip install pydot`) and install graphviz (see instructions at https://graphviz.gitlab.io/download/) ', 'for plot_model/model_to_dot to work.')\n"
     ]
    }
   ],
   "source": [
    "tf.keras.utils.plot_model(\n",
    "    model,\n",
    "    to_file=\"model.png\",\n",
    "    show_shapes=True,\n",
    "    show_layer_names=True,\n",
    "    rankdir = \"TB\",\n",
    "    expand_nested=True,\n",
    "    dpi=96\n",
    ")"
   ]
  },
  {
   "cell_type": "code",
   "execution_count": 20,
   "metadata": {},
   "outputs": [],
   "source": [
    "model.compile(optimizer=\"adam\", \n",
    "             loss=tf.keras.losses.SparseCategoricalCrossentropy(from_logits=True),\n",
    "             metrics=['accuracy'])"
   ]
  },
  {
   "cell_type": "code",
   "execution_count": 61,
   "metadata": {},
   "outputs": [],
   "source": [
    "from tensorflow.keras.callbacks import EarlyStopping\n",
    "callbacks=[EarlyStopping(patience=5)]"
   ]
  },
  {
   "cell_type": "code",
   "execution_count": 23,
   "metadata": {
    "scrolled": true
   },
   "outputs": [
    {
     "name": "stdout",
     "output_type": "stream",
     "text": [
      "Epoch 1/20\n"
     ]
    },
    {
     "name": "stderr",
     "output_type": "stream",
     "text": [
      "C:\\Users\\rashi\\anaconda3\\lib\\site-packages\\tensorflow\\python\\keras\\backend.py:4929: UserWarning: \"`sparse_categorical_crossentropy` received `from_logits=True`, but the `output` argument was produced by a sigmoid or softmax activation and thus does not represent logits. Was this intended?\"\n",
      "  warnings.warn(\n"
     ]
    },
    {
     "name": "stdout",
     "output_type": "stream",
     "text": [
      "1563/1563 [==============================] - 40s 25ms/step - loss: 1.3490 - accuracy: 0.5204 - val_loss: 1.1155 - val_accuracy: 0.6078\n",
      "Epoch 2/20\n",
      "1563/1563 [==============================] - 38s 24ms/step - loss: 0.9970 - accuracy: 0.6507 - val_loss: 0.9872 - val_accuracy: 0.6565\n",
      "Epoch 3/20\n",
      "1563/1563 [==============================] - 38s 24ms/step - loss: 0.8609 - accuracy: 0.6986 - val_loss: 0.9391 - val_accuracy: 0.6755\n",
      "Epoch 4/20\n",
      "1563/1563 [==============================] - 38s 24ms/step - loss: 0.7621 - accuracy: 0.7341 - val_loss: 0.8565 - val_accuracy: 0.7036\n",
      "Epoch 5/20\n",
      "1563/1563 [==============================] - 39s 25ms/step - loss: 0.6796 - accuracy: 0.7625 - val_loss: 0.8668 - val_accuracy: 0.7039\n",
      "Epoch 6/20\n",
      "1563/1563 [==============================] - 38s 24ms/step - loss: 0.6040 - accuracy: 0.7892 - val_loss: 0.8831 - val_accuracy: 0.7119\n"
     ]
    }
   ],
   "source": [
    "history = model.fit(X_train, y_train, epochs = 20, \n",
    "                    validation_data=(X_test, y_test), callbacks=callbacks)"
   ]
  },
  {
   "cell_type": "code",
   "execution_count": 24,
   "metadata": {},
   "outputs": [],
   "source": [
    "import pandas as pd\n",
    "met_df = pd.DataFrame(history.history)"
   ]
  },
  {
   "cell_type": "code",
   "execution_count": 25,
   "metadata": {},
   "outputs": [
    {
     "data": {
      "text/html": [
       "<div>\n",
       "<style scoped>\n",
       "    .dataframe tbody tr th:only-of-type {\n",
       "        vertical-align: middle;\n",
       "    }\n",
       "\n",
       "    .dataframe tbody tr th {\n",
       "        vertical-align: top;\n",
       "    }\n",
       "\n",
       "    .dataframe thead th {\n",
       "        text-align: right;\n",
       "    }\n",
       "</style>\n",
       "<table border=\"1\" class=\"dataframe\">\n",
       "  <thead>\n",
       "    <tr style=\"text-align: right;\">\n",
       "      <th></th>\n",
       "      <th>loss</th>\n",
       "      <th>accuracy</th>\n",
       "      <th>val_loss</th>\n",
       "      <th>val_accuracy</th>\n",
       "    </tr>\n",
       "  </thead>\n",
       "  <tbody>\n",
       "    <tr>\n",
       "      <th>0</th>\n",
       "      <td>1.349003</td>\n",
       "      <td>0.52044</td>\n",
       "      <td>1.115549</td>\n",
       "      <td>0.6078</td>\n",
       "    </tr>\n",
       "    <tr>\n",
       "      <th>1</th>\n",
       "      <td>0.997036</td>\n",
       "      <td>0.65068</td>\n",
       "      <td>0.987221</td>\n",
       "      <td>0.6565</td>\n",
       "    </tr>\n",
       "    <tr>\n",
       "      <th>2</th>\n",
       "      <td>0.860923</td>\n",
       "      <td>0.69862</td>\n",
       "      <td>0.939140</td>\n",
       "      <td>0.6755</td>\n",
       "    </tr>\n",
       "    <tr>\n",
       "      <th>3</th>\n",
       "      <td>0.762106</td>\n",
       "      <td>0.73406</td>\n",
       "      <td>0.856480</td>\n",
       "      <td>0.7036</td>\n",
       "    </tr>\n",
       "    <tr>\n",
       "      <th>4</th>\n",
       "      <td>0.679551</td>\n",
       "      <td>0.76246</td>\n",
       "      <td>0.866766</td>\n",
       "      <td>0.7039</td>\n",
       "    </tr>\n",
       "    <tr>\n",
       "      <th>5</th>\n",
       "      <td>0.604024</td>\n",
       "      <td>0.78916</td>\n",
       "      <td>0.883146</td>\n",
       "      <td>0.7119</td>\n",
       "    </tr>\n",
       "  </tbody>\n",
       "</table>\n",
       "</div>"
      ],
      "text/plain": [
       "       loss  accuracy  val_loss  val_accuracy\n",
       "0  1.349003   0.52044  1.115549        0.6078\n",
       "1  0.997036   0.65068  0.987221        0.6565\n",
       "2  0.860923   0.69862  0.939140        0.6755\n",
       "3  0.762106   0.73406  0.856480        0.7036\n",
       "4  0.679551   0.76246  0.866766        0.7039\n",
       "5  0.604024   0.78916  0.883146        0.7119"
      ]
     },
     "execution_count": 25,
     "metadata": {},
     "output_type": "execute_result"
    }
   ],
   "source": [
    "met_df"
   ]
  },
  {
   "cell_type": "code",
   "execution_count": 27,
   "metadata": {},
   "outputs": [
    {
     "data": {
      "text/plain": [
       "<AxesSubplot:>"
      ]
     },
     "execution_count": 27,
     "metadata": {},
     "output_type": "execute_result"
    },
    {
     "data": {
      "image/png": "[encoded data removed]",
      "text/plain": [
       "<Figure size 432x288 with 1 Axes>"
      ]
     },
     "metadata": {
      "needs_background": "light"
     },
     "output_type": "display_data"
    }
   ],
   "source": [
    "met_df[[\"loss\", \"val_loss\"]].plot()"
   ]
  },
  {
   "cell_type": "code",
   "execution_count": 29,
   "metadata": {},
   "outputs": [
    {
     "data": {
      "text/plain": [
       "<AxesSubplot:>"
      ]
     },
     "execution_count": 29,
     "metadata": {},
     "output_type": "execute_result"
    },
    {
     "data": {
      "image/png": "[encoded data removed]",
      "text/plain": [
       "<Figure size 432x288 with 1 Axes>"
      ]
     },
     "metadata": {
      "needs_background": "light"
     },
     "output_type": "display_data"
    }
   ],
   "source": [
    "met_df[[\"accuracy\", \"val_accuracy\"]].plot()"
   ]
  },
  {
   "cell_type": "code",
   "execution_count": 35,
   "metadata": {},
   "outputs": [],
   "source": [
    "model = tf.keras.Sequential([\n",
    "    tf.keras.layers.Conv2D(32, (3, 3), padding=\"valid\",\n",
    "                          activation=\"relu\", input_shape=(32, 32, 3)),\n",
    "    tf.keras.layers.MaxPooling2D((2, 2), strides=2),\n",
    "    tf.keras.layers.Conv2D(64, (3, 3), padding=\"valid\", activation=\"relu\"),\n",
    "    tf.keras.layers.MaxPooling2D((2, 2), strides=2),\n",
    "    tf.keras.layers.Flatten(),\n",
    "    tf.keras.layers.Dense(100, activation=\"relu\"),\n",
    "    tf.keras.layers.Dense(100, activation=\"relu\"),\n",
    "    tf.keras.layers.Dense(10, activation=\"softmax\")]\n",
    ")"
   ]
  },
  {
   "cell_type": "code",
   "execution_count": 36,
   "metadata": {},
   "outputs": [],
   "source": [
    "model.compile(optimizer=\"adam\", \n",
    "             loss=tf.keras.losses.SparseCategoricalCrossentropy(from_logits=True),\n",
    "             metrics=['accuracy'])"
   ]
  },
  {
   "cell_type": "code",
   "execution_count": 37,
   "metadata": {},
   "outputs": [
    {
     "name": "stdout",
     "output_type": "stream",
     "text": [
      "Epoch 1/50\n",
      "1563/1563 [==============================] - 29s 18ms/step - loss: 1.4570 - accuracy: 0.4717 - val_loss: 1.1903 - val_accuracy: 0.5817\n",
      "Epoch 2/50\n",
      "1563/1563 [==============================] - 29s 18ms/step - loss: 1.0877 - accuracy: 0.6130 - val_loss: 1.0018 - val_accuracy: 0.6475\n",
      "Epoch 3/50\n",
      "1563/1563 [==============================] - 29s 18ms/step - loss: 0.9452 - accuracy: 0.6674 - val_loss: 0.9689 - val_accuracy: 0.6627\n",
      "Epoch 4/50\n",
      "1563/1563 [==============================] - 29s 19ms/step - loss: 0.8387 - accuracy: 0.7040 - val_loss: 0.9296 - val_accuracy: 0.6859\n",
      "Epoch 5/50\n",
      "1563/1563 [==============================] - 29s 18ms/step - loss: 0.7619 - accuracy: 0.7324 - val_loss: 0.9264 - val_accuracy: 0.6822\n",
      "Epoch 6/50\n",
      "1563/1563 [==============================] - 29s 18ms/step - loss: 0.6997 - accuracy: 0.7548 - val_loss: 0.8613 - val_accuracy: 0.7059\n",
      "Epoch 7/50\n",
      "1563/1563 [==============================] - 29s 18ms/step - loss: 0.6406 - accuracy: 0.7750 - val_loss: 0.8845 - val_accuracy: 0.7015\n",
      "Epoch 8/50\n",
      "1563/1563 [==============================] - 29s 18ms/step - loss: 0.5914 - accuracy: 0.7908 - val_loss: 0.9600 - val_accuracy: 0.6877\n"
     ]
    }
   ],
   "source": [
    "history = model.fit(X_train, y_train, epochs = 50, \n",
    "                    validation_data=(X_test, y_test), callbacks=callbacks)"
   ]
  },
  {
   "cell_type": "code",
   "execution_count": 107,
   "metadata": {},
   "outputs": [],
   "source": [
    "model = tf.keras.Sequential([\n",
    "    tf.keras.layers.Conv2D(32, (3, 3), padding=\"valid\",\n",
    "                          activation=\"relu\", input_shape=(32, 32, 3)),\n",
    "    tf.keras.layers.MaxPooling2D((2, 2), strides=2),\n",
    "    \n",
    "    tf.keras.layers.Conv2D(48, (3, 3), padding=\"valid\", activation=\"relu\"),\n",
    "    tf.keras.layers.MaxPooling2D((2, 2), strides=2),\n",
    "    \n",
    "    tf.keras.layers.Conv2D(48, (3, 3), padding=\"valid\", activation=\"relu\"),\n",
    "    tf.keras.layers.MaxPooling2D((2, 2), strides=2),\n",
    "    \n",
    "    tf.keras.layers.Flatten(),\n",
    "    tf.keras.layers.Dense(100, activation=\"relu\"),\n",
    "    tf.keras.layers.Dense(100, activation=\"relu\"),\n",
    "    tf.keras.layers.Dense(100, activation=\"relu\"),\n",
    "    tf.keras.layers.Dense(10, activation=\"softmax\")]\n",
    ")"
   ]
  },
  {
   "cell_type": "code",
   "execution_count": 109,
   "metadata": {},
   "outputs": [
    {
     "name": "stdout",
     "output_type": "stream",
     "text": [
      "Model: \"sequential_25\"\n",
      "_________________________________________________________________\n",
      "Layer (type)                 Output Shape              Param #   \n",
      "=================================================================\n",
      "conv2d_81 (Conv2D)           (None, 30, 30, 32)        896       \n",
      "_________________________________________________________________\n",
      "max_pooling2d_79 (MaxPooling (None, 15, 15, 32)        0         \n",
      "_________________________________________________________________\n",
      "conv2d_82 (Conv2D)           (None, 13, 13, 48)        13872     \n",
      "_________________________________________________________________\n",
      "max_pooling2d_80 (MaxPooling (None, 6, 6, 48)          0         \n",
      "_________________________________________________________________\n",
      "conv2d_83 (Conv2D)           (None, 4, 4, 48)          20784     \n",
      "_________________________________________________________________\n",
      "max_pooling2d_81 (MaxPooling (None, 2, 2, 48)          0         \n",
      "_________________________________________________________________\n",
      "flatten_27 (Flatten)         (None, 192)               0         \n",
      "_________________________________________________________________\n",
      "dense_98 (Dense)             (None, 100)               19300     \n",
      "_________________________________________________________________\n",
      "dense_99 (Dense)             (None, 100)               10100     \n",
      "_________________________________________________________________\n",
      "dense_100 (Dense)            (None, 100)               10100     \n",
      "_________________________________________________________________\n",
      "dense_101 (Dense)            (None, 10)                1010      \n",
      "=================================================================\n",
      "Total params: 76,062\n",
      "Trainable params: 76,062\n",
      "Non-trainable params: 0\n",
      "_________________________________________________________________\n"
     ]
    }
   ],
   "source": [
    "model.summary()"
   ]
  },
  {
   "cell_type": "code",
   "execution_count": 78,
   "metadata": {},
   "outputs": [],
   "source": [
    "model.compile(optimizer=\"adam\", \n",
    "             loss=tf.keras.losses.SparseCategoricalCrossentropy(),\n",
    "             metrics=['accuracy'])"
   ]
  },
  {
   "cell_type": "code",
   "execution_count": 79,
   "metadata": {
    "scrolled": false
   },
   "outputs": [
    {
     "name": "stdout",
     "output_type": "stream",
     "text": [
      "Epoch 1/50\n",
      "1563/1563 [==============================] - 30s 19ms/step - loss: 1.5905 - accuracy: 0.4057 - val_loss: 1.3958 - val_accuracy: 0.4917\n",
      "Epoch 2/50\n",
      "1563/1563 [==============================] - 30s 19ms/step - loss: 1.2437 - accuracy: 0.5521 - val_loss: 1.1319 - val_accuracy: 0.5921\n",
      "Epoch 3/50\n",
      "1563/1563 [==============================] - 31s 20ms/step - loss: 1.0986 - accuracy: 0.6078 - val_loss: 1.0879 - val_accuracy: 0.6211\n",
      "Epoch 4/50\n",
      "1563/1563 [==============================] - 30s 19ms/step - loss: 0.9859 - accuracy: 0.6506 - val_loss: 1.0199 - val_accuracy: 0.6409\n",
      "Epoch 5/50\n",
      "1563/1563 [==============================] - 30s 19ms/step - loss: 0.9093 - accuracy: 0.6768 - val_loss: 0.9593 - val_accuracy: 0.6722\n",
      "Epoch 6/50\n",
      "1563/1563 [==============================] - 31s 20ms/step - loss: 0.8522 - accuracy: 0.7003 - val_loss: 0.9180 - val_accuracy: 0.6815\n",
      "Epoch 7/50\n",
      "1563/1563 [==============================] - 31s 20ms/step - loss: 0.8009 - accuracy: 0.7162 - val_loss: 0.8761 - val_accuracy: 0.6946\n",
      "Epoch 8/50\n",
      "1563/1563 [==============================] - 31s 20ms/step - loss: 0.7576 - accuracy: 0.7323 - val_loss: 0.8842 - val_accuracy: 0.6964\n",
      "Epoch 9/50\n",
      "1563/1563 [==============================] - 32s 20ms/step - loss: 0.7231 - accuracy: 0.7447 - val_loss: 0.9106 - val_accuracy: 0.6880\n",
      "Epoch 10/50\n",
      "1563/1563 [==============================] - 31s 20ms/step - loss: 0.6888 - accuracy: 0.7575 - val_loss: 0.9377 - val_accuracy: 0.6762\n",
      "Epoch 11/50\n",
      "1563/1563 [==============================] - 31s 20ms/step - loss: 0.6600 - accuracy: 0.7683 - val_loss: 0.8643 - val_accuracy: 0.7072\n",
      "Epoch 12/50\n",
      "1563/1563 [==============================] - 32s 20ms/step - loss: 0.6312 - accuracy: 0.7774 - val_loss: 0.8578 - val_accuracy: 0.7175\n",
      "Epoch 13/50\n",
      "1563/1563 [==============================] - 31s 20ms/step - loss: 0.6065 - accuracy: 0.7870 - val_loss: 0.8871 - val_accuracy: 0.7027\n",
      "Epoch 14/50\n",
      "1563/1563 [==============================] - 31s 20ms/step - loss: 0.5824 - accuracy: 0.7939 - val_loss: 0.9441 - val_accuracy: 0.6975\n",
      "Epoch 15/50\n",
      "1563/1563 [==============================] - 32s 20ms/step - loss: 0.5654 - accuracy: 0.7996 - val_loss: 0.9225 - val_accuracy: 0.7090\n",
      "Epoch 16/50\n",
      "1563/1563 [==============================] - 32s 20ms/step - loss: 0.5426 - accuracy: 0.8075 - val_loss: 0.9101 - val_accuracy: 0.7087\n",
      "Epoch 17/50\n",
      "1563/1563 [==============================] - 32s 20ms/step - loss: 0.5237 - accuracy: 0.8141 - val_loss: 0.9171 - val_accuracy: 0.7072\n"
     ]
    }
   ],
   "source": [
    "history = model.fit(X_train, y_train, epochs = 50, \n",
    "                    validation_data=(X_test, y_test), callbacks=callbacks)"
   ]
  },
  {
   "cell_type": "code",
   "execution_count": 111,
   "metadata": {},
   "outputs": [
    {
     "data": {
      "image/png": "[encoded data removed]",
      "text/plain": [
       "<Figure size 432x288 with 1 Axes>"
      ]
     },
     "metadata": {
      "needs_background": "light"
     },
     "output_type": "display_data"
    }
   ],
   "source": [
    "met_df1 = pd.DataFrame(history.history)\n",
    "met_df1[[\"loss\", \"val_loss\"]].plot()\n",
    "plt.xlabel(\"Epochs\")\n",
    "plt.ylabel(\"Losses\")\n",
    "plt.title(\"Losses per Epoch\")\n",
    "plt.show()"
   ]
  },
  {
   "cell_type": "code",
   "execution_count": 112,
   "metadata": {},
   "outputs": [
    {
     "data": {
      "image/png": "[encoded data removed]",
      "text/plain": [
       "<Figure size 432x288 with 1 Axes>"
      ]
     },
     "metadata": {
      "needs_background": "light"
     },
     "output_type": "display_data"
    }
   ],
   "source": [
    "met_df1[[\"accuracy\", \"val_accuracy\"]].plot()\n",
    "plt.xlabel(\"Epochs\")\n",
    "plt.ylabel(\"Accuracy\")\n",
    "plt.title(\"Accuracies per Epoch\")\n",
    "plt.show()"
   ]
  },
  {
   "cell_type": "code",
   "execution_count": 110,
   "metadata": {},
   "outputs": [
    {
     "data": {
      "text/html": [
       "<div>\n",
       "<style scoped>\n",
       "    .dataframe tbody tr th:only-of-type {\n",
       "        vertical-align: middle;\n",
       "    }\n",
       "\n",
       "    .dataframe tbody tr th {\n",
       "        vertical-align: top;\n",
       "    }\n",
       "\n",
       "    .dataframe thead th {\n",
       "        text-align: right;\n",
       "    }\n",
       "</style>\n",
       "<table border=\"1\" class=\"dataframe\">\n",
       "  <thead>\n",
       "    <tr style=\"text-align: right;\">\n",
       "      <th></th>\n",
       "      <th>loss</th>\n",
       "      <th>accuracy</th>\n",
       "      <th>val_loss</th>\n",
       "      <th>val_accuracy</th>\n",
       "    </tr>\n",
       "  </thead>\n",
       "  <tbody>\n",
       "    <tr>\n",
       "      <th>0</th>\n",
       "      <td>1.590515</td>\n",
       "      <td>0.40570</td>\n",
       "      <td>1.395849</td>\n",
       "      <td>0.4917</td>\n",
       "    </tr>\n",
       "    <tr>\n",
       "      <th>1</th>\n",
       "      <td>1.243665</td>\n",
       "      <td>0.55214</td>\n",
       "      <td>1.131878</td>\n",
       "      <td>0.5921</td>\n",
       "    </tr>\n",
       "    <tr>\n",
       "      <th>2</th>\n",
       "      <td>1.098627</td>\n",
       "      <td>0.60776</td>\n",
       "      <td>1.087920</td>\n",
       "      <td>0.6211</td>\n",
       "    </tr>\n",
       "    <tr>\n",
       "      <th>3</th>\n",
       "      <td>0.985875</td>\n",
       "      <td>0.65062</td>\n",
       "      <td>1.019866</td>\n",
       "      <td>0.6409</td>\n",
       "    </tr>\n",
       "    <tr>\n",
       "      <th>4</th>\n",
       "      <td>0.909281</td>\n",
       "      <td>0.67682</td>\n",
       "      <td>0.959277</td>\n",
       "      <td>0.6722</td>\n",
       "    </tr>\n",
       "    <tr>\n",
       "      <th>5</th>\n",
       "      <td>0.852169</td>\n",
       "      <td>0.70028</td>\n",
       "      <td>0.918023</td>\n",
       "      <td>0.6815</td>\n",
       "    </tr>\n",
       "    <tr>\n",
       "      <th>6</th>\n",
       "      <td>0.800939</td>\n",
       "      <td>0.71622</td>\n",
       "      <td>0.876056</td>\n",
       "      <td>0.6946</td>\n",
       "    </tr>\n",
       "    <tr>\n",
       "      <th>7</th>\n",
       "      <td>0.757603</td>\n",
       "      <td>0.73230</td>\n",
       "      <td>0.884173</td>\n",
       "      <td>0.6964</td>\n",
       "    </tr>\n",
       "    <tr>\n",
       "      <th>8</th>\n",
       "      <td>0.723081</td>\n",
       "      <td>0.74468</td>\n",
       "      <td>0.910624</td>\n",
       "      <td>0.6880</td>\n",
       "    </tr>\n",
       "    <tr>\n",
       "      <th>9</th>\n",
       "      <td>0.688798</td>\n",
       "      <td>0.75750</td>\n",
       "      <td>0.937719</td>\n",
       "      <td>0.6762</td>\n",
       "    </tr>\n",
       "    <tr>\n",
       "      <th>10</th>\n",
       "      <td>0.659962</td>\n",
       "      <td>0.76832</td>\n",
       "      <td>0.864276</td>\n",
       "      <td>0.7072</td>\n",
       "    </tr>\n",
       "    <tr>\n",
       "      <th>11</th>\n",
       "      <td>0.631151</td>\n",
       "      <td>0.77742</td>\n",
       "      <td>0.857831</td>\n",
       "      <td>0.7175</td>\n",
       "    </tr>\n",
       "    <tr>\n",
       "      <th>12</th>\n",
       "      <td>0.606547</td>\n",
       "      <td>0.78700</td>\n",
       "      <td>0.887125</td>\n",
       "      <td>0.7027</td>\n",
       "    </tr>\n",
       "    <tr>\n",
       "      <th>13</th>\n",
       "      <td>0.582372</td>\n",
       "      <td>0.79390</td>\n",
       "      <td>0.944061</td>\n",
       "      <td>0.6975</td>\n",
       "    </tr>\n",
       "    <tr>\n",
       "      <th>14</th>\n",
       "      <td>0.565357</td>\n",
       "      <td>0.79960</td>\n",
       "      <td>0.922505</td>\n",
       "      <td>0.7090</td>\n",
       "    </tr>\n",
       "    <tr>\n",
       "      <th>15</th>\n",
       "      <td>0.542602</td>\n",
       "      <td>0.80754</td>\n",
       "      <td>0.910128</td>\n",
       "      <td>0.7087</td>\n",
       "    </tr>\n",
       "    <tr>\n",
       "      <th>16</th>\n",
       "      <td>0.523670</td>\n",
       "      <td>0.81412</td>\n",
       "      <td>0.917068</td>\n",
       "      <td>0.7072</td>\n",
       "    </tr>\n",
       "  </tbody>\n",
       "</table>\n",
       "</div>"
      ],
      "text/plain": [
       "        loss  accuracy  val_loss  val_accuracy\n",
       "0   1.590515   0.40570  1.395849        0.4917\n",
       "1   1.243665   0.55214  1.131878        0.5921\n",
       "2   1.098627   0.60776  1.087920        0.6211\n",
       "3   0.985875   0.65062  1.019866        0.6409\n",
       "4   0.909281   0.67682  0.959277        0.6722\n",
       "5   0.852169   0.70028  0.918023        0.6815\n",
       "6   0.800939   0.71622  0.876056        0.6946\n",
       "7   0.757603   0.73230  0.884173        0.6964\n",
       "8   0.723081   0.74468  0.910624        0.6880\n",
       "9   0.688798   0.75750  0.937719        0.6762\n",
       "10  0.659962   0.76832  0.864276        0.7072\n",
       "11  0.631151   0.77742  0.857831        0.7175\n",
       "12  0.606547   0.78700  0.887125        0.7027\n",
       "13  0.582372   0.79390  0.944061        0.6975\n",
       "14  0.565357   0.79960  0.922505        0.7090\n",
       "15  0.542602   0.80754  0.910128        0.7087\n",
       "16  0.523670   0.81412  0.917068        0.7072"
      ]
     },
     "execution_count": 110,
     "metadata": {},
     "output_type": "execute_result"
    }
   ],
   "source": [
    "met_df1"
   ]
  },
  {
   "cell_type": "code",
   "execution_count": 83,
   "metadata": {},
   "outputs": [],
   "source": [
    "model = tf.keras.Sequential([\n",
    "    tf.keras.layers.Conv2D(32, (3, 3), padding=\"valid\",\n",
    "                          activation=\"relu\", input_shape=(32, 32, 3)),\n",
    "    tf.keras.layers.MaxPooling2D((2, 2), strides=2),\n",
    "    tf.keras.layers.Conv2D(48, (3, 3), padding=\"valid\", activation=\"relu\"),\n",
    "    tf.keras.layers.MaxPooling2D((2, 2), strides=2),\n",
    "    tf.keras.layers.Conv2D(48, (3, 3), padding=\"valid\", activation=\"relu\"),\n",
    "    tf.keras.layers.MaxPooling2D((2, 2), strides=2),\n",
    "            \n",
    "    tf.keras.layers.Flatten(),\n",
    "    tf.keras.layers.Dense(200, activation=\"relu\"),\n",
    "    tf.keras.layers.Dense(100, activation=\"relu\"),\n",
    "    tf.keras.layers.Dense(100, activation=\"relu\"),\n",
    "    tf.keras.layers.Dense(100, activation=\"relu\"),\n",
    "    tf.keras.layers.Dense(10, activation=\"softmax\")]\n",
    ")"
   ]
  },
  {
   "cell_type": "code",
   "execution_count": 84,
   "metadata": {},
   "outputs": [],
   "source": [
    "model.compile(optimizer=\"adam\", \n",
    "             loss=tf.keras.losses.SparseCategoricalCrossentropy(from_logits=True),\n",
    "             metrics=['accuracy'])"
   ]
  },
  {
   "cell_type": "code",
   "execution_count": 85,
   "metadata": {},
   "outputs": [
    {
     "name": "stdout",
     "output_type": "stream",
     "text": [
      "Epoch 1/50\n"
     ]
    },
    {
     "name": "stderr",
     "output_type": "stream",
     "text": [
      "C:\\Users\\rashi\\anaconda3\\lib\\site-packages\\tensorflow\\python\\keras\\backend.py:4929: UserWarning: \"`sparse_categorical_crossentropy` received `from_logits=True`, but the `output` argument was produced by a sigmoid or softmax activation and thus does not represent logits. Was this intended?\"\n",
      "  warnings.warn(\n"
     ]
    },
    {
     "name": "stdout",
     "output_type": "stream",
     "text": [
      "1563/1563 [==============================] - 32s 20ms/step - loss: 1.6091 - accuracy: 0.4003 - val_loss: 1.3563 - val_accuracy: 0.5071\n",
      "Epoch 2/50\n",
      "1563/1563 [==============================] - 30s 19ms/step - loss: 1.2610 - accuracy: 0.5466 - val_loss: 1.3181 - val_accuracy: 0.5309\n",
      "Epoch 3/50\n",
      "1563/1563 [==============================] - 31s 20ms/step - loss: 1.1152 - accuracy: 0.6014 - val_loss: 1.1185 - val_accuracy: 0.6042\n",
      "Epoch 4/50\n",
      "1563/1563 [==============================] - 30s 19ms/step - loss: 1.0157 - accuracy: 0.6381 - val_loss: 1.0263 - val_accuracy: 0.6425\n",
      "Epoch 5/50\n",
      "1563/1563 [==============================] - 29s 19ms/step - loss: 0.9456 - accuracy: 0.6653 - val_loss: 1.0404 - val_accuracy: 0.6400\n",
      "Epoch 6/50\n",
      "1563/1563 [==============================] - 29s 19ms/step - loss: 0.8889 - accuracy: 0.6853 - val_loss: 0.9512 - val_accuracy: 0.6715\n",
      "Epoch 7/50\n",
      "1563/1563 [==============================] - 29s 19ms/step - loss: 0.8354 - accuracy: 0.7065 - val_loss: 0.9375 - val_accuracy: 0.6793\n",
      "Epoch 8/50\n",
      "1563/1563 [==============================] - 29s 19ms/step - loss: 0.7942 - accuracy: 0.7193 - val_loss: 0.9134 - val_accuracy: 0.6842\n",
      "Epoch 9/50\n",
      "1563/1563 [==============================] - 29s 19ms/step - loss: 0.7606 - accuracy: 0.7340 - val_loss: 0.9245 - val_accuracy: 0.6886\n",
      "Epoch 10/50\n",
      "1563/1563 [==============================] - 30s 19ms/step - loss: 0.7286 - accuracy: 0.7452 - val_loss: 0.9453 - val_accuracy: 0.6811\n",
      "Epoch 11/50\n",
      "1563/1563 [==============================] - 29s 19ms/step - loss: 0.6951 - accuracy: 0.7566 - val_loss: 0.9187 - val_accuracy: 0.6922\n",
      "Epoch 12/50\n",
      "1563/1563 [==============================] - 29s 19ms/step - loss: 0.6761 - accuracy: 0.7625 - val_loss: 0.9309 - val_accuracy: 0.6933\n",
      "Epoch 13/50\n",
      "1563/1563 [==============================] - 29s 19ms/step - loss: 0.6419 - accuracy: 0.7733 - val_loss: 0.9557 - val_accuracy: 0.6951\n"
     ]
    }
   ],
   "source": [
    "history = model.fit(X_train, y_train, epochs = 50, \n",
    "                    validation_data=(X_test, y_test), callbacks=callbacks)"
   ]
  },
  {
   "cell_type": "code",
   "execution_count": 86,
   "metadata": {},
   "outputs": [
    {
     "data": {
      "text/plain": [
       "<AxesSubplot:>"
      ]
     },
     "execution_count": 86,
     "metadata": {},
     "output_type": "execute_result"
    },
    {
     "data": {
      "image/png": "[encoded data removed]",
      "text/plain": [
       "<Figure size 432x288 with 1 Axes>"
      ]
     },
     "metadata": {
      "needs_background": "light"
     },
     "output_type": "display_data"
    }
   ],
   "source": [
    "met_df2 = pd.DataFrame(history.history)\n",
    "met_df2[[\"loss\", \"val_loss\"]].plot()"
   ]
  },
  {
   "cell_type": "code",
   "execution_count": 87,
   "metadata": {},
   "outputs": [
    {
     "data": {
      "text/plain": [
       "<AxesSubplot:>"
      ]
     },
     "execution_count": 87,
     "metadata": {},
     "output_type": "execute_result"
    },
    {
     "data": {
      "image/png": "[encoded data removed]",
      "text/plain": [
       "<Figure size 432x288 with 1 Axes>"
      ]
     },
     "metadata": {
      "needs_background": "light"
     },
     "output_type": "display_data"
    }
   ],
   "source": [
    "met_df2[[\"accuracy\", \"val_accuracy\"]].plot()"
   ]
  },
  {
   "cell_type": "code",
   "execution_count": null,
   "metadata": {},
   "outputs": [],
   "source": []
  },
  {
   "cell_type": "code",
   "execution_count": null,
   "metadata": {},
   "outputs": [],
   "source": []
  },
  {
   "cell_type": "code",
   "execution_count": 93,
   "metadata": {},
   "outputs": [],
   "source": [
    "model = tf.keras.Sequential([\n",
    "    tf.keras.layers.Conv2D(32, (3, 3), padding=\"same\",\n",
    "                          activation=\"relu\", input_shape=(32, 32, 3)),\n",
    "    tf.keras.layers.MaxPooling2D((2, 2), strides=2),\n",
    "    \n",
    "    tf.keras.layers.Conv2D(48, (3, 3), padding=\"same\", activation=\"relu\"),\n",
    "    tf.keras.layers.MaxPooling2D((2, 2), strides=2),\n",
    "    \n",
    "    tf.keras.layers.Conv2D(48, (3, 3), padding=\"same\", activation=\"relu\"),\n",
    "    tf.keras.layers.MaxPooling2D((2, 2), strides=2),\n",
    "    \n",
    "    tf.keras.layers.Flatten(),\n",
    "    tf.keras.layers.Dense(100, activation=\"relu\"),\n",
    "    tf.keras.layers.Dense(100, activation=\"relu\"),\n",
    "    tf.keras.layers.Dense(100, activation=\"relu\"),\n",
    "    tf.keras.layers.Dense(10, activation=\"softmax\")]\n",
    ")"
   ]
  },
  {
   "cell_type": "code",
   "execution_count": 94,
   "metadata": {},
   "outputs": [],
   "source": [
    "model.compile(optimizer=\"adam\", \n",
    "             loss=tf.keras.losses.SparseCategoricalCrossentropy(),\n",
    "             metrics=['accuracy'])"
   ]
  },
  {
   "cell_type": "code",
   "execution_count": 95,
   "metadata": {},
   "outputs": [
    {
     "name": "stdout",
     "output_type": "stream",
     "text": [
      "Epoch 1/50\n",
      "1563/1563 [==============================] - 48s 31ms/step - loss: 1.4809 - accuracy: 0.4595 - val_loss: 1.1717 - val_accuracy: 0.5811\n",
      "Epoch 2/50\n",
      "1563/1563 [==============================] - 46s 29ms/step - loss: 1.0611 - accuracy: 0.6234 - val_loss: 0.9933 - val_accuracy: 0.6522\n",
      "Epoch 3/50\n",
      "1563/1563 [==============================] - 44s 28ms/step - loss: 0.9040 - accuracy: 0.6815 - val_loss: 0.9448 - val_accuracy: 0.6754\n",
      "Epoch 4/50\n",
      "1563/1563 [==============================] - 43s 27ms/step - loss: 0.8106 - accuracy: 0.7158 - val_loss: 0.8578 - val_accuracy: 0.7005\n",
      "Epoch 5/50\n",
      "1563/1563 [==============================] - 45s 29ms/step - loss: 0.7339 - accuracy: 0.7415 - val_loss: 0.8524 - val_accuracy: 0.7054\n",
      "Epoch 6/50\n",
      "1563/1563 [==============================] - 44s 28ms/step - loss: 0.6823 - accuracy: 0.7628 - val_loss: 0.8229 - val_accuracy: 0.7181\n",
      "Epoch 7/50\n",
      "1563/1563 [==============================] - 43s 28ms/step - loss: 0.6290 - accuracy: 0.7799 - val_loss: 0.8342 - val_accuracy: 0.7160\n",
      "Epoch 8/50\n",
      "1563/1563 [==============================] - 43s 28ms/step - loss: 0.5891 - accuracy: 0.7954 - val_loss: 0.8579 - val_accuracy: 0.7137\n",
      "Epoch 9/50\n",
      "1563/1563 [==============================] - 45s 29ms/step - loss: 0.5544 - accuracy: 0.8054 - val_loss: 0.8486 - val_accuracy: 0.7268\n",
      "Epoch 10/50\n",
      "1563/1563 [==============================] - 44s 28ms/step - loss: 0.5119 - accuracy: 0.8214 - val_loss: 0.8182 - val_accuracy: 0.7396\n",
      "Epoch 11/50\n",
      "1563/1563 [==============================] - 43s 28ms/step - loss: 0.4827 - accuracy: 0.8310 - val_loss: 0.8336 - val_accuracy: 0.7382\n",
      "Epoch 12/50\n",
      "1563/1563 [==============================] - 42s 27ms/step - loss: 0.4501 - accuracy: 0.8423 - val_loss: 0.8787 - val_accuracy: 0.7301\n",
      "Epoch 13/50\n",
      "1563/1563 [==============================] - 39s 25ms/step - loss: 0.4268 - accuracy: 0.8488 - val_loss: 0.9284 - val_accuracy: 0.7327\n",
      "Epoch 14/50\n",
      "1563/1563 [==============================] - 39s 25ms/step - loss: 0.3982 - accuracy: 0.8589 - val_loss: 0.9241 - val_accuracy: 0.7305\n",
      "Epoch 15/50\n",
      "1563/1563 [==============================] - 44s 28ms/step - loss: 0.3710 - accuracy: 0.8704 - val_loss: 0.9198 - val_accuracy: 0.7238\n"
     ]
    }
   ],
   "source": [
    "history = model.fit(X_train, y_train, epochs = 50, \n",
    "                    validation_data=(X_test, y_test), callbacks=callbacks)"
   ]
  },
  {
   "cell_type": "code",
   "execution_count": 96,
   "metadata": {},
   "outputs": [
    {
     "data": {
      "text/plain": [
       "<AxesSubplot:>"
      ]
     },
     "execution_count": 96,
     "metadata": {},
     "output_type": "execute_result"
    },
    {
     "data": {
      "image/png": "[encoded data removed]",
      "text/plain": [
       "<Figure size 432x288 with 1 Axes>"
      ]
     },
     "metadata": {
      "needs_background": "light"
     },
     "output_type": "display_data"
    }
   ],
   "source": [
    "met_df3 = pd.DataFrame(history.history)\n",
    "met_df3[[\"loss\", \"val_loss\"]].plot()"
   ]
  },
  {
   "cell_type": "code",
   "execution_count": 97,
   "metadata": {},
   "outputs": [
    {
     "data": {
      "text/plain": [
       "<AxesSubplot:>"
      ]
     },
     "execution_count": 97,
     "metadata": {},
     "output_type": "execute_result"
    },
    {
     "data": {
      "image/png": "[encoded data removed]",
      "text/plain": [
       "<Figure size 432x288 with 1 Axes>"
      ]
     },
     "metadata": {
      "needs_background": "light"
     },
     "output_type": "display_data"
    }
   ],
   "source": [
    "met_df3[[\"accuracy\", \"val_accuracy\"]].plot()"
   ]
  },
  {
   "cell_type": "code",
   "execution_count": null,
   "metadata": {},
   "outputs": [],
   "source": []
  },
  {
   "cell_type": "code",
   "execution_count": 98,
   "metadata": {},
   "outputs": [],
   "source": [
    "model = tf.keras.Sequential([\n",
    "    tf.keras.layers.Conv2D(32, (2, 4), padding=\"same\",\n",
    "                          activation=\"relu\", input_shape=(32, 32, 3)),\n",
    "    tf.keras.layers.MaxPooling2D((2, 2), strides=2),\n",
    "    \n",
    "    tf.keras.layers.Conv2D(48, (3, 2), padding=\"same\", activation=\"relu\"),\n",
    "    tf.keras.layers.MaxPooling2D((2, 2), strides=2),\n",
    "    \n",
    "    tf.keras.layers.Conv2D(48, (3, 2), padding=\"same\", activation=\"relu\"),\n",
    "    tf.keras.layers.MaxPooling2D((2, 2), strides=2),\n",
    "    \n",
    "    tf.keras.layers.Flatten(),\n",
    "    tf.keras.layers.Dense(100, activation=\"relu\"),\n",
    "    tf.keras.layers.Dense(100, activation=\"relu\"),\n",
    "    tf.keras.layers.Dense(100, activation=\"relu\"),\n",
    "    tf.keras.layers.Dense(10, activation=\"softmax\")]\n",
    ")"
   ]
  },
  {
   "cell_type": "code",
   "execution_count": 100,
   "metadata": {},
   "outputs": [],
   "source": [
    "model.compile(optimizer=\"adam\", \n",
    "             loss=tf.keras.losses.SparseCategoricalCrossentropy(),\n",
    "             metrics=['accuracy'])"
   ]
  },
  {
   "cell_type": "code",
   "execution_count": 101,
   "metadata": {},
   "outputs": [
    {
     "name": "stdout",
     "output_type": "stream",
     "text": [
      "Epoch 1/50\n",
      "1563/1563 [==============================] - 36s 23ms/step - loss: 1.5312 - accuracy: 0.4348 - val_loss: 1.2310 - val_accuracy: 0.5543\n",
      "Epoch 2/50\n",
      "1563/1563 [==============================] - 34s 22ms/step - loss: 1.1137 - accuracy: 0.5999 - val_loss: 1.0363 - val_accuracy: 0.6307\n",
      "Epoch 3/50\n",
      "1563/1563 [==============================] - 36s 23ms/step - loss: 0.9535 - accuracy: 0.6622 - val_loss: 0.9271 - val_accuracy: 0.6696\n",
      "Epoch 4/50\n",
      "1563/1563 [==============================] - 32s 21ms/step - loss: 0.8540 - accuracy: 0.6999 - val_loss: 0.9115 - val_accuracy: 0.6832\n",
      "Epoch 5/50\n",
      "1563/1563 [==============================] - 33s 21ms/step - loss: 0.7816 - accuracy: 0.7252 - val_loss: 0.9160 - val_accuracy: 0.6870\n",
      "Epoch 6/50\n",
      "1563/1563 [==============================] - 35s 22ms/step - loss: 0.7203 - accuracy: 0.7471 - val_loss: 0.8400 - val_accuracy: 0.7073\n",
      "Epoch 7/50\n",
      "1563/1563 [==============================] - 35s 22ms/step - loss: 0.6682 - accuracy: 0.7642 - val_loss: 0.8770 - val_accuracy: 0.7031\n",
      "Epoch 8/50\n",
      "1563/1563 [==============================] - 37s 24ms/step - loss: 0.6348 - accuracy: 0.7743 - val_loss: 0.8895 - val_accuracy: 0.7012\n",
      "Epoch 9/50\n",
      "1563/1563 [==============================] - 37s 24ms/step - loss: 0.5884 - accuracy: 0.7925 - val_loss: 0.8353 - val_accuracy: 0.7216\n",
      "Epoch 10/50\n",
      "1563/1563 [==============================] - 37s 24ms/step - loss: 0.5503 - accuracy: 0.8047 - val_loss: 0.8414 - val_accuracy: 0.7199\n",
      "Epoch 11/50\n",
      "1563/1563 [==============================] - 35s 23ms/step - loss: 0.5202 - accuracy: 0.8152 - val_loss: 0.8649 - val_accuracy: 0.7294\n",
      "Epoch 12/50\n",
      "1563/1563 [==============================] - 36s 23ms/step - loss: 0.4933 - accuracy: 0.8242 - val_loss: 0.8839 - val_accuracy: 0.7160\n",
      "Epoch 13/50\n",
      "1563/1563 [==============================] - 35s 23ms/step - loss: 0.4640 - accuracy: 0.8363 - val_loss: 0.8777 - val_accuracy: 0.7264\n",
      "Epoch 14/50\n",
      "1563/1563 [==============================] - 36s 23ms/step - loss: 0.4428 - accuracy: 0.8444 - val_loss: 0.9000 - val_accuracy: 0.7255\n"
     ]
    }
   ],
   "source": [
    "history = model.fit(X_train, y_train, epochs = 50, \n",
    "                    validation_data=(X_test, y_test), callbacks=callbacks)"
   ]
  },
  {
   "cell_type": "code",
   "execution_count": 102,
   "metadata": {},
   "outputs": [
    {
     "data": {
      "text/plain": [
       "<AxesSubplot:>"
      ]
     },
     "execution_count": 102,
     "metadata": {},
     "output_type": "execute_result"
    },
    {
     "data": {
      "image/png": "[encoded data removed]",
      "text/plain": [
       "<Figure size 432x288 with 1 Axes>"
      ]
     },
     "metadata": {
      "needs_background": "light"
     },
     "output_type": "display_data"
    }
   ],
   "source": [
    "met_df4 = pd.DataFrame(history.history)\n",
    "met_df4[[\"loss\", \"val_loss\"]].plot()"
   ]
  },
  {
   "cell_type": "code",
   "execution_count": 103,
   "metadata": {},
   "outputs": [
    {
     "data": {
      "text/plain": [
       "<AxesSubplot:>"
      ]
     },
     "execution_count": 103,
     "metadata": {},
     "output_type": "execute_result"
    },
    {
     "data": {
      "image/png": "[encoded data removed]",
      "text/plain": [
       "<Figure size 432x288 with 1 Axes>"
      ]
     },
     "metadata": {
      "needs_background": "light"
     },
     "output_type": "display_data"
    }
   ],
   "source": [
    "met_df4[[\"accuracy\", \"val_accuracy\"]].plot()"
   ]
  },
  {
   "cell_type": "code",
   "execution_count": null,
   "metadata": {},
   "outputs": [],
   "source": []
  }
 ],
 "metadata": {
  "kernelspec": {
   "display_name": "Python 3",
   "language": "python",
   "name": "python3"
  },
  "language_info": {
   "codemirror_mode": {
    "name": "ipython",
    "version": 3
   },
   "file_extension": ".py",
   "mimetype": "text/x-python",
   "name": "python",
   "nbconvert_exporter": "python",
   "pygments_lexer": "ipython3",
   "version": "3.8.5"
  }
 },
 "nbformat": 4,
 "nbformat_minor": 4
}
