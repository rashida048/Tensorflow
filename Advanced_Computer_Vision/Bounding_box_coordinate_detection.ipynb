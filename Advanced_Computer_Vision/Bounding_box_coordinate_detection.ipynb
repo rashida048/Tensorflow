{
  "nbformat": 4,
  "nbformat_minor": 0,
  "metadata": {
    "colab": {
      "provenance": []
    },
    "kernelspec": {
      "name": "python3",
      "display_name": "Python 3"
    },
    "language_info": {
      "name": "python"
    }
  },
  "cells": [
    {
      "cell_type": "code",
      "execution_count": 5,
      "metadata": {
        "id": "ITLU0kW8hlJb"
      },
      "outputs": [],
      "source": [
        "import tensorflow as tf\n",
        "import tensorflow_hub as hub\n",
        "from PIL import Image\n",
        "from PIL import ImageOps\n",
        "import tempfile\n",
        "from six.moves.urllib.request import urlopen\n",
        "from six import BytesIO"
      ]
    },
    {
      "cell_type": "code",
      "source": [
        "module_handle = \"https://tfhub.dev/google/faster_rcnn/openimages_v4/inception_resnet_v2/1\"\n",
        "model = hub.load(module_handle)"
      ],
      "metadata": {
        "id": "j4-ryTQomubV"
      },
      "execution_count": 6,
      "outputs": []
    },
    {
      "cell_type": "code",
      "source": [
        "model.signatures.keys()\n",
        "detector = model.signatures['default']"
      ],
      "metadata": {
        "id": "rogGUgNyCeUH"
      },
      "execution_count": 7,
      "outputs": []
    },
    {
      "cell_type": "code",
      "source": [
        "def download_and_resize_image(url, new_width=256, new_height=256):\n",
        "\n",
        "  _, filename = tempfile.mkstemp(suffix='.jpg')\n",
        "\n",
        "  response = urlopen(url)\n",
        "\n",
        "  image_data = response.read()\n",
        "\n",
        "  image_data = BytesIO(image_data)\n",
        "\n",
        "  pil_image = Image.open(image_data)\n",
        "\n",
        "  pil_image = ImageOps.fit(pil_image, (new_width, new_height), Image.ANTIALIAS)\n",
        "\n",
        "  pil_image_rgb = pil_image.convert(\"RGB\")\n",
        "\n",
        "  pil_image_rgb.save(filename, format = \"JPEG\", quality=90)\n",
        "\n",
        "  print(\"Image downloaded to %s.\" % filename)\n",
        "\n",
        "  return filename"
      ],
      "metadata": {
        "id": "Sf6AM_PVCypX"
      },
      "execution_count": 8,
      "outputs": []
    },
    {
      "cell_type": "code",
      "source": [
        "# You can choose a different URL that points to an image of your choice\n",
        "image_url = \"https://upload.wikimedia.org/wikipedia/commons/f/fb/20130807_dublin014.JPG\"\n",
        "\n",
        "downloaded_image_path = download_and_resize_image(image_url, 3872, 2592)"
      ],
      "metadata": {
        "colab": {
          "base_uri": "https://localhost:8080/"
        },
        "id": "P6HEwEFCTEhg",
        "outputId": "3b0c6f21-e3bc-43c2-9397-c05ae2f615ae"
      },
      "execution_count": 9,
      "outputs": [
        {
          "output_type": "stream",
          "name": "stderr",
          "text": [
            "<ipython-input-8-bda6e352a75f>:13: DeprecationWarning: ANTIALIAS is deprecated and will be removed in Pillow 10 (2023-07-01). Use LANCZOS or Resampling.LANCZOS instead.\n",
            "  pil_image = ImageOps.fit(pil_image, (new_width, new_height), Image.ANTIALIAS)\n"
          ]
        },
        {
          "output_type": "stream",
          "name": "stdout",
          "text": [
            "Image downloaded to /tmp/tmp6cvutdne.jpg.\n"
          ]
        }
      ]
    },
    {
      "cell_type": "code",
      "source": [
        "def load_img(path):\n",
        "  img = tf.io.read_file(path)\n",
        "\n",
        "  img = tf.image.decode_jpeg(img, channels=3)\n",
        "\n",
        "  return img"
      ],
      "metadata": {
        "id": "TBTQH7V4TO2e"
      },
      "execution_count": 10,
      "outputs": []
    },
    {
      "cell_type": "code",
      "source": [
        "def run_detector(detector, path):\n",
        "  img = load_img(path)\n",
        "\n",
        "  converted_img = tf.image.convert_image_dtype(img, tf.float32)[tf.newaxis, ...]\n",
        "\n",
        "  result = detector(converted_img)\n",
        "\n",
        "  result = {key:value.numpy() for key, value in result.items()}\n",
        "\n",
        "  print(\"Found %d objects.\" % len(result[\"detection_scores\"]))\n",
        "  print(result[\"detection_scores\"])\n",
        "  print(result[\"detection_class_entities\"])\n",
        "  print(result[\"detection_boxes\"])"
      ],
      "metadata": {
        "id": "zhtI-RIQTdWU"
      },
      "execution_count": 13,
      "outputs": []
    },
    {
      "cell_type": "code",
      "source": [
        "run_detector(detector, downloaded_image_path)"
      ],
      "metadata": {
        "colab": {
          "base_uri": "https://localhost:8080/"
        },
        "id": "0GPTLHiOUjxj",
        "outputId": "22f5ec25-9b27-40e8-caab-cce4ab43f3ad"
      },
      "execution_count": 14,
      "outputs": [
        {
          "output_type": "stream",
          "name": "stdout",
          "text": [
            "Found 100 objects.\n",
            "[0.6544857  0.6114536  0.604229   0.5926326  0.59218603 0.58049154\n",
            " 0.5514059  0.49466917 0.47515702 0.4734224  0.43996006 0.41485107\n",
            " 0.40629694 0.39828914 0.397652   0.37620965 0.3727938  0.36574715\n",
            " 0.3526071  0.33274624 0.30428708 0.2727659  0.2686493  0.25777096\n",
            " 0.25290594 0.24612105 0.23403853 0.20342878 0.18229379 0.18045738\n",
            " 0.17571312 0.16435076 0.15849952 0.15666048 0.15470827 0.15452749\n",
            " 0.1492489  0.1334067  0.12948263 0.12649718 0.12044212 0.11767308\n",
            " 0.11356075 0.11114758 0.11100268 0.10914917 0.10604051 0.08940531\n",
            " 0.08598229 0.08280209 0.08104504 0.07806076 0.0776033  0.07628641\n",
            " 0.07546869 0.07444178 0.07427166 0.07204837 0.07177538 0.07102203\n",
            " 0.07032707 0.06809692 0.06304511 0.06285931 0.06270926 0.06223952\n",
            " 0.05882177 0.05815045 0.05795773 0.05787582 0.05462382 0.05274325\n",
            " 0.05133715 0.04826548 0.0470842  0.04682969 0.04495224 0.04405145\n",
            " 0.0436071  0.04113451 0.04109946 0.03968579 0.03935    0.03912786\n",
            " 0.03879518 0.03878603 0.03739649 0.03606939 0.03367102 0.0336685\n",
            " 0.03260201 0.03253518 0.03201497 0.029831   0.02877995 0.02867635\n",
            " 0.02803961 0.02783179 0.02734368 0.02668238]\n",
            "[b'Person' b'Person' b'Person' b'Person' b'Footwear' b'Person' b'Building'\n",
            " b'Bicycle' b'Building' b'Window' b'Person' b'Bicycle' b'Wheel'\n",
            " b'Building' b'Building' b'Building' b'Person' b'Wheel' b'Window'\n",
            " b'Window' b'Building' b'Person' b'Van' b'Person' b'Bicycle wheel'\n",
            " b'Person' b'Window' b'Window' b'Building' b'Window' b'Window' b'Man'\n",
            " b'Person' b'Woman' b'Person' b'Clothing' b'Bicycle wheel' b'Window'\n",
            " b'Person' b'Window' b'Land vehicle' b'Land vehicle' b'Clothing' b'Window'\n",
            " b'Bicycle' b'Land vehicle' b'House' b'House' b'Man' b'Window' b'Clothing'\n",
            " b'Window' b'Footwear' b'Person' b'Man' b'Man' b'House' b'Building'\n",
            " b'Person' b'Clothing' b'Window' b'Person' b'Man' b'Person' b'Furniture'\n",
            " b'Jeans' b'Person' b'Person' b'Person' b'Land vehicle' b'Window' b'House'\n",
            " b'Woman' b'Man' b'Window' b'Person' b'Person' b'Clothing' b'Man' b'Man'\n",
            " b'Window' b'Car' b'Person' b'Man' b'Chair' b'Car' b'House' b'Window'\n",
            " b'Tire' b'Clothing' b'Window' b'Clothing' b'Land vehicle' b'Window'\n",
            " b'Window' b'Man' b'Van' b'Bus' b'Clothing' b'Car']\n",
            "[[5.12794435e-01 5.29270947e-01 6.01662338e-01 5.52094460e-01]\n",
            " [5.19745946e-01 6.01507127e-01 6.46124244e-01 6.34682894e-01]\n",
            " [5.05745947e-01 5.00440776e-01 6.01349175e-01 5.23089707e-01]\n",
            " [4.86308813e-01 4.12762254e-01 6.78550303e-01 4.59905565e-01]\n",
            " [8.15190852e-01 9.56118345e-01 8.42701733e-01 9.87144649e-01]\n",
            " [4.95466530e-01 9.23534274e-01 8.35634887e-01 9.99056876e-01]\n",
            " [1.10985572e-02 1.19119547e-02 7.39750564e-01 4.24907237e-01]\n",
            " [5.77826023e-01 3.66453230e-01 7.12805688e-01 4.83338207e-01]\n",
            " [7.74935707e-02 4.13054019e-01 5.79458833e-01 5.60309172e-01]\n",
            " [0.00000000e+00 1.19292580e-01 2.23897204e-01 1.83949068e-01]\n",
            " [5.14069736e-01 7.48097837e-01 5.91962218e-01 7.66569197e-01]\n",
            " [5.70777833e-01 3.61820370e-01 7.07328439e-01 4.29666758e-01]\n",
            " [6.32094145e-01 3.59869897e-01 7.03841686e-01 4.11815584e-01]\n",
            " [1.59085859e-02 6.84961617e-01 5.59388876e-01 8.11146796e-01]\n",
            " [0.00000000e+00 7.97109306e-01 6.73736036e-01 1.00000000e+00]\n",
            " [0.00000000e+00 2.17026904e-01 6.50973022e-01 4.32000875e-01]\n",
            " [5.00372708e-01 3.77004474e-01 6.33350551e-01 4.14514393e-01]\n",
            " [6.40339971e-01 4.45023417e-01 7.03034759e-01 4.83457506e-01]\n",
            " [1.94404612e-03 0.00000000e+00 1.39331967e-01 2.62884218e-02]\n",
            " [2.55186716e-03 9.66625452e-01 1.53752610e-01 1.00000000e+00]\n",
            " [1.41545618e-03 1.41049293e-03 7.64848292e-01 2.69352019e-01]\n",
            " [5.04901111e-01 3.60784888e-01 6.37663364e-01 3.85480136e-01]\n",
            " [4.83383805e-01 6.19484127e-01 5.62658012e-01 6.61572099e-01]\n",
            " [4.98201460e-01 3.64614099e-01 6.61157489e-01 4.04896408e-01]\n",
            " [6.31229341e-01 3.60322863e-01 7.04147041e-01 4.11499411e-01]\n",
            " [5.21806777e-01 5.77694833e-01 5.87613106e-01 6.00717783e-01]\n",
            " [2.19603732e-01 3.48738879e-01 3.38255525e-01 3.77067655e-01]\n",
            " [1.24826737e-01 2.50923932e-01 2.79914737e-01 2.81625867e-01]\n",
            " [2.57318467e-01 5.67493618e-01 5.30910075e-01 6.87876582e-01]\n",
            " [4.21753451e-02 8.74765277e-01 2.52863377e-01 9.13046181e-01]\n",
            " [1.56401619e-01 4.43365514e-01 2.22233817e-01 4.75784540e-01]\n",
            " [5.01994431e-01 9.21467483e-01 8.36361706e-01 1.00000000e+00]\n",
            " [5.23673594e-01 5.70347011e-01 5.84506154e-01 5.91607034e-01]\n",
            " [5.19169092e-01 5.99965990e-01 6.46330178e-01 6.34094715e-01]\n",
            " [5.13154805e-01 6.79228544e-01 5.50981283e-01 6.92548096e-01]\n",
            " [5.24344563e-01 9.24945474e-01 8.10528219e-01 9.97979462e-01]\n",
            " [6.38063252e-01 4.42797333e-01 7.01729059e-01 4.84131962e-01]\n",
            " [3.41055430e-02 3.55657607e-01 1.62304908e-01 3.74908745e-01]\n",
            " [4.88090158e-01 4.53366905e-01 6.22257173e-01 4.79664892e-01]\n",
            " [9.66507592e-04 3.07707369e-01 1.06515862e-01 3.32070321e-01]\n",
            " [4.82970089e-01 6.19791687e-01 5.64778984e-01 6.60652637e-01]\n",
            " [5.82391143e-01 3.64923388e-01 7.13891625e-01 4.84685332e-01]\n",
            " [5.23790002e-01 7.49292731e-01 5.85470319e-01 7.65311480e-01]\n",
            " [3.51464272e-01 9.74868834e-01 5.53043723e-01 9.98887122e-01]\n",
            " [6.09076977e-01 4.26833510e-01 7.05196321e-01 4.87107515e-01]\n",
            " [5.69254696e-01 3.59783024e-01 7.08566368e-01 4.28438634e-01]\n",
            " [0.00000000e+00 8.11187208e-01 6.93582833e-01 9.93253589e-01]\n",
            " [1.04294838e-02 2.29469035e-02 7.27312565e-01 4.22287554e-01]\n",
            " [4.84632283e-01 4.10697758e-01 6.94742858e-01 4.63139951e-01]\n",
            " [8.11544657e-02 3.84775937e-01 2.07952142e-01 4.11755383e-01]\n",
            " [5.38567245e-01 6.03585005e-01 6.34740889e-01 6.34476542e-01]\n",
            " [0.00000000e+00 1.24075869e-02 1.40296474e-01 2.47341208e-02]\n",
            " [6.29779994e-01 6.14883423e-01 6.44907951e-01 6.25335038e-01]\n",
            " [5.02842903e-01 3.82420719e-01 5.96016347e-01 4.12718743e-01]\n",
            " [5.14681399e-01 7.47871041e-01 5.91947734e-01 7.66782522e-01]\n",
            " [5.06433249e-01 5.00402689e-01 6.00716949e-01 5.23319721e-01]\n",
            " [0.00000000e+00 2.11128622e-01 6.50825918e-01 4.34384257e-01]\n",
            " [0.00000000e+00 7.06320584e-01 6.17161393e-01 8.65940332e-01]\n",
            " [4.89298165e-01 4.54274893e-01 5.72620332e-01 4.76397544e-01]\n",
            " [5.09207368e-01 4.16264892e-01 6.69016659e-01 4.59577173e-01]\n",
            " [4.67802677e-03 8.03107023e-01 1.59582272e-01 8.40365171e-01]\n",
            " [5.26175678e-01 5.68375826e-01 5.79436243e-01 5.82803071e-01]\n",
            " [5.02847612e-01 3.73985916e-01 6.47125959e-01 4.12972599e-01]\n",
            " [4.85917509e-01 4.44437206e-01 6.24690235e-01 4.73519802e-01]\n",
            " [5.74168622e-01 2.67251372e-01 6.57761574e-01 3.20314020e-01]\n",
            " [6.71982288e-01 9.40317750e-01 8.21177125e-01 9.89214003e-01]\n",
            " [5.24104714e-01 5.61555982e-01 5.78347087e-01 5.80502689e-01]\n",
            " [5.17589688e-01 7.57220507e-01 5.88313997e-01 7.71545768e-01]\n",
            " [5.23328543e-01 5.57813823e-01 5.79028904e-01 5.73553503e-01]\n",
            " [6.12360060e-01 4.27401602e-01 7.06096232e-01 4.88300234e-01]\n",
            " [0.00000000e+00 2.44237110e-01 6.08887672e-02 2.93773860e-01]\n",
            " [1.54844159e-02 1.94193644e-03 7.45163381e-01 2.59336561e-01]\n",
            " [4.93266404e-01 9.23959553e-01 8.36913288e-01 9.97706771e-01]\n",
            " [5.05292952e-01 3.60166430e-01 6.43362343e-01 3.91438514e-01]\n",
            " [8.43423046e-03 2.42121428e-01 4.97449487e-02 2.83145577e-01]\n",
            " [5.22109151e-01 5.36088049e-01 5.97674847e-01 5.53133190e-01]\n",
            " [5.13126016e-01 5.23810089e-01 6.00540400e-01 5.42965055e-01]\n",
            " [5.18315673e-01 5.03453434e-01 5.97545326e-01 5.22752881e-01]\n",
            " [5.20455718e-01 6.00931644e-01 6.45991087e-01 6.34363830e-01]\n",
            " [5.13168335e-01 6.79253876e-01 5.50486147e-01 6.92442954e-01]\n",
            " [4.29723203e-01 8.28743577e-01 5.90048730e-01 8.64375412e-01]\n",
            " [5.26593328e-01 6.27190769e-01 5.63289881e-01 6.53785050e-01]\n",
            " [5.04781127e-01 3.89410645e-01 6.15231216e-01 4.19951588e-01]\n",
            " [5.01324892e-01 3.64236265e-01 6.59752846e-01 4.03719962e-01]\n",
            " [5.73110282e-01 2.66732723e-01 6.66223586e-01 3.18649948e-01]\n",
            " [5.15103340e-01 6.24091804e-01 5.63832283e-01 6.58031821e-01]\n",
            " [8.32031518e-02 4.07567918e-01 5.84344089e-01 5.58310449e-01]\n",
            " [2.88201898e-01 4.62551223e-04 4.14279878e-01 3.67076844e-02]\n",
            " [6.27132773e-01 3.60995084e-01 7.05960691e-01 4.09780413e-01]\n",
            " [4.97159481e-01 4.55211073e-01 5.84271312e-01 4.77872074e-01]\n",
            " [1.17194215e-02 3.08072537e-01 9.73200500e-02 3.25075477e-01]\n",
            " [5.15893996e-01 3.80090386e-01 5.96972466e-01 4.11767155e-01]\n",
            " [5.12428999e-01 6.23649299e-01 5.62436640e-01 6.57682240e-01]\n",
            " [4.00773793e-01 8.84974241e-01 5.81656575e-01 9.39130306e-01]\n",
            " [0.00000000e+00 9.94758774e-03 1.36254013e-01 3.15974392e-02]\n",
            " [5.13905644e-01 5.29502392e-01 6.02055967e-01 5.52376091e-01]\n",
            " [5.10691524e-01 6.24039650e-01 5.63410044e-01 6.58179879e-01]\n",
            " [4.80379969e-01 6.20327830e-01 5.65284133e-01 6.60123467e-01]\n",
            " [5.38407385e-01 9.28024292e-01 7.13617265e-01 9.99452710e-01]\n",
            " [4.86337841e-01 6.20247364e-01 5.63528717e-01 6.60217762e-01]]\n"
          ]
        }
      ]
    },
    {
      "cell_type": "code",
      "source": [],
      "metadata": {
        "id": "9PZE8-0ZU5r1"
      },
      "execution_count": null,
      "outputs": []
    }
  ]
}