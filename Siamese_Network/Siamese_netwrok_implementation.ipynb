{
  "nbformat": 4,
  "nbformat_minor": 0,
  "metadata": {
    "colab": {
      "provenance": [],
      "gpuType": "T4"
    },
    "kernelspec": {
      "name": "python3",
      "display_name": "Python 3"
    },
    "language_info": {
      "name": "python"
    },
    "accelerator": "GPU"
  },
  "cells": [
    {
      "cell_type": "code",
      "execution_count": 1,
      "metadata": {
        "id": "c2LbxCYNLw3c"
      },
      "outputs": [],
      "source": [
        "import os\n",
        "img_shape = (28, 28, 1)\n",
        "\n",
        "batch_size = 64\n",
        "epochs = 100"
      ]
    },
    {
      "cell_type": "code",
      "source": [
        "base_output = \"output\"\n",
        "\n",
        "model_path = os.path.sep.join([base_output, \"siamese_model\"])\n",
        "plot_path = os.path.sep.join([base_output, \"plot.png\"])"
      ],
      "metadata": {
        "id": "psly0w_QMCYJ"
      },
      "execution_count": 2,
      "outputs": []
    },
    {
      "cell_type": "code",
      "source": [
        "from tensorflow.keras.models import Model\n",
        "from tensorflow.keras.layers import Input\n",
        "from tensorflow.keras.layers import Conv2D\n",
        "from tensorflow.keras.layers import Dense\n",
        "from tensorflow.keras.layers import Dropout\n",
        "from tensorflow.keras.layers import GlobalAveragePooling2D\n",
        "from tensorflow.keras.layers import MaxPooling2D"
      ],
      "metadata": {
        "id": "K8cn8rdaMa0h"
      },
      "execution_count": 3,
      "outputs": []
    },
    {
      "cell_type": "code",
      "source": [
        "def build_siamese_model(inputShape, embeddingDim=48):\n",
        "  inputs = Input(inputShape)\n",
        "\n",
        "  x = Conv2D(64, (2, 2), padding=\"same\", activation=\"relu\")(inputs)\n",
        "  x = MaxPooling2D(pool_size=(2, 2))(x)\n",
        "  x = Dropout(0.3)(x)\n",
        "  x = Conv2D(64, (2, 2), padding=\"same\", activation=\"relu\")(x)\n",
        "  x = MaxPooling2D(pool_size=2)(x)\n",
        "  x = Dropout(0.3)(x)\n",
        "\n",
        "  pooledOutput = GlobalAveragePooling2D()(x)\n",
        "  outputs = Dense(embeddingDim)(pooledOutput)\n",
        "  model = Model(inputs, outputs)\n",
        "  return model"
      ],
      "metadata": {
        "id": "RHDf81_XMnK2"
      },
      "execution_count": 4,
      "outputs": []
    },
    {
      "cell_type": "code",
      "source": [
        "import tensorflow.keras.backend as K\n",
        "import matplotlib.pyplot as plt\n",
        "import numpy as np"
      ],
      "metadata": {
        "id": "glvCeC_MNQbQ"
      },
      "execution_count": 5,
      "outputs": []
    },
    {
      "cell_type": "code",
      "source": [
        "def make_pairs(images, labels):\n",
        "\n",
        "  pairImages = []\n",
        "  pairLabels = []\n",
        "\n",
        "  numClasses = len(np.unique(labels))\n",
        "  idx = [np.where(labels ==i)[0] for i in range(0, numClasses)]\n",
        "\n",
        "  for idxA in range(len(images)):\n",
        "\n",
        "    currentImage = images[idxA]\n",
        "    label = labels[idxA]\n",
        "\n",
        "    idxB = np.random.choice(idx[label])\n",
        "    posImage = images[idxB]\n",
        "\n",
        "    pairImages.append([currentImage, posImage])\n",
        "    pairLabels.append([1])\n",
        "\n",
        "    negIdx = np.where(labels != label)[0]\n",
        "    negImage = images[np.random.choice(negIdx)]\n",
        "\n",
        "    pairImages.append([currentImage, negImage])\n",
        "    pairLabels.append([0])\n",
        "\n",
        "  return (np.array(pairImages), np.array(pairLabels))"
      ],
      "metadata": {
        "id": "eeThwReqOYwR"
      },
      "execution_count": 6,
      "outputs": []
    },
    {
      "cell_type": "code",
      "source": [
        "def euclidean_distance(vectors):\n",
        "  (featsA, featsB) = vectors\n",
        "\n",
        "  sumSquared = K.sum(K.square(featsA - featsB), axis=1,\n",
        "                     keepdims=True)\n",
        "\n",
        "  return K.sqrt(K.maximum(sumSquared, K.epsilon()))"
      ],
      "metadata": {
        "id": "ZpjdXOWBgDZz"
      },
      "execution_count": 7,
      "outputs": []
    },
    {
      "cell_type": "code",
      "source": [
        "def plot_training(H, plotPath):\n",
        "\t# construct a plot that plots and saves the training history\n",
        "\tplt.style.use(\"ggplot\")\n",
        "\tplt.figure()\n",
        "\tplt.plot(H.history[\"loss\"], label=\"train_loss\")\n",
        "\tplt.plot(H.history[\"val_loss\"], label=\"val_loss\")\n",
        "\tplt.plot(H.history[\"accuracy\"], label=\"train_acc\")\n",
        "\tplt.plot(H.history[\"val_accuracy\"], label=\"val_acc\")\n",
        "\tplt.title(\"Training Loss and Accuracy\")\n",
        "\tplt.xlabel(\"Epoch #\")\n",
        "\tplt.ylabel(\"Loss/Accuracy\")\n",
        "\tplt.legend(loc=\"lower left\")\n",
        "\tplt.savefig(plotPath)"
      ],
      "metadata": {
        "id": "UB3hpxKkjm2V"
      },
      "execution_count": 8,
      "outputs": []
    },
    {
      "cell_type": "code",
      "source": [
        "from tensorflow.keras.models import Model\n",
        "from tensorflow.keras.layers import Dense\n",
        "from tensorflow.keras.layers import Input\n",
        "from tensorflow.keras.layers import Lambda\n",
        "from tensorflow.keras.datasets import mnist\n",
        "import numpy as np"
      ],
      "metadata": {
        "id": "46ZGbb5ykO4U"
      },
      "execution_count": 9,
      "outputs": []
    },
    {
      "cell_type": "code",
      "source": [
        "(trainX, trainY), (testX, testY) = mnist.load_data()\n",
        "\n",
        "trainX = trainX / 255.0\n",
        "testX = testX / 255.0\n",
        "\n",
        "trainX = np.expand_dims(trainX, axis = -1)\n",
        "testX = np.expand_dims(testX, axis = -1)\n",
        "\n",
        "(pairTrain, labelTrain) = make_pairs(trainX, trainY)\n",
        "(pairTest, labelTest) = make_pairs(testX, testY)"
      ],
      "metadata": {
        "colab": {
          "base_uri": "https://localhost:8080/"
        },
        "id": "B1UoQ__pkgJg",
        "outputId": "3bfa9ded-0df5-430c-ccc1-10311dc0a0b4"
      },
      "execution_count": 10,
      "outputs": [
        {
          "output_type": "stream",
          "name": "stdout",
          "text": [
            "Downloading data from https://storage.googleapis.com/tensorflow/tf-keras-datasets/mnist.npz\n",
            "11490434/11490434 [==============================] - 0s 0us/step\n"
          ]
        }
      ]
    },
    {
      "cell_type": "code",
      "source": [
        "imgA = Input(shape=img_shape)\n",
        "imgB = Input(shape=img_shape)\n",
        "\n",
        "featureExtractor = build_siamese_model(img_shape)\n",
        "featsA = featureExtractor(imgA)\n",
        "featsB = featureExtractor(imgB)"
      ],
      "metadata": {
        "id": "WhC1QXl2lz3_"
      },
      "execution_count": 11,
      "outputs": []
    },
    {
      "cell_type": "code",
      "source": [
        "distance = Lambda(euclidean_distance)([featsA, featsB])\n",
        "outputs = Dense(1, activation='sigmoid')(distance)\n",
        "model = Model(inputs=[imgA, imgB], outputs=outputs)"
      ],
      "metadata": {
        "id": "eBZZ-HRQmiRi"
      },
      "execution_count": 12,
      "outputs": []
    },
    {
      "cell_type": "code",
      "source": [
        "model.compile(loss = 'binary_crossentropy', optimizer='adam',\n",
        "              metrics=[\"accuracy\"])\n",
        "\n",
        "history = model.fit(\n",
        "    [pairTrain[:, 0], pairTrain[:, 1]], labelTrain[:],\n",
        "    validation_data = ([pairTest[:, 0], pairTest[:, 1]], labelTest[:]),\n",
        "    batch_size=batch_size,\n",
        "    epochs=100\n",
        ")"
      ],
      "metadata": {
        "colab": {
          "base_uri": "https://localhost:8080/"
        },
        "id": "rtEmHdq0nZ6V",
        "outputId": "ac1e105a-64db-47aa-cf7f-eb069abb3a7d"
      },
      "execution_count": 13,
      "outputs": [
        {
          "output_type": "stream",
          "name": "stdout",
          "text": [
            "Epoch 1/100\n",
            "1875/1875 [==============================] - 25s 8ms/step - loss: 0.6195 - accuracy: 0.6465 - val_loss: 0.5516 - val_accuracy: 0.7499\n",
            "Epoch 2/100\n",
            "1875/1875 [==============================] - 14s 7ms/step - loss: 0.5444 - accuracy: 0.7312 - val_loss: 0.4856 - val_accuracy: 0.7850\n",
            "Epoch 3/100\n",
            "1875/1875 [==============================] - 14s 7ms/step - loss: 0.5043 - accuracy: 0.7577 - val_loss: 0.4531 - val_accuracy: 0.7972\n",
            "Epoch 4/100\n",
            "1875/1875 [==============================] - 13s 7ms/step - loss: 0.4801 - accuracy: 0.7711 - val_loss: 0.4174 - val_accuracy: 0.8172\n",
            "Epoch 5/100\n",
            "1875/1875 [==============================] - 14s 8ms/step - loss: 0.4594 - accuracy: 0.7841 - val_loss: 0.4101 - val_accuracy: 0.8173\n",
            "Epoch 6/100\n",
            "1875/1875 [==============================] - 14s 7ms/step - loss: 0.4427 - accuracy: 0.7939 - val_loss: 0.3852 - val_accuracy: 0.8315\n",
            "Epoch 7/100\n",
            "1875/1875 [==============================] - 14s 8ms/step - loss: 0.4311 - accuracy: 0.8019 - val_loss: 0.3643 - val_accuracy: 0.8443\n",
            "Epoch 8/100\n",
            "1875/1875 [==============================] - 14s 7ms/step - loss: 0.4208 - accuracy: 0.8091 - val_loss: 0.3609 - val_accuracy: 0.8446\n",
            "Epoch 9/100\n",
            "1875/1875 [==============================] - 14s 7ms/step - loss: 0.4121 - accuracy: 0.8142 - val_loss: 0.3571 - val_accuracy: 0.8447\n",
            "Epoch 10/100\n",
            "1875/1875 [==============================] - 14s 7ms/step - loss: 0.4086 - accuracy: 0.8149 - val_loss: 0.3451 - val_accuracy: 0.8518\n",
            "Epoch 11/100\n",
            "1875/1875 [==============================] - 14s 7ms/step - loss: 0.4028 - accuracy: 0.8198 - val_loss: 0.3419 - val_accuracy: 0.8522\n",
            "Epoch 12/100\n",
            "1875/1875 [==============================] - 14s 7ms/step - loss: 0.4001 - accuracy: 0.8205 - val_loss: 0.3436 - val_accuracy: 0.8506\n",
            "Epoch 13/100\n",
            "1875/1875 [==============================] - 14s 7ms/step - loss: 0.3949 - accuracy: 0.8228 - val_loss: 0.3473 - val_accuracy: 0.8465\n",
            "Epoch 14/100\n",
            "1875/1875 [==============================] - 13s 7ms/step - loss: 0.3921 - accuracy: 0.8245 - val_loss: 0.3338 - val_accuracy: 0.8543\n",
            "Epoch 15/100\n",
            "1875/1875 [==============================] - 14s 7ms/step - loss: 0.3880 - accuracy: 0.8269 - val_loss: 0.3238 - val_accuracy: 0.8594\n",
            "Epoch 16/100\n",
            "1875/1875 [==============================] - 14s 7ms/step - loss: 0.3840 - accuracy: 0.8298 - val_loss: 0.3284 - val_accuracy: 0.8563\n",
            "Epoch 17/100\n",
            "1875/1875 [==============================] - 14s 7ms/step - loss: 0.3803 - accuracy: 0.8306 - val_loss: 0.3227 - val_accuracy: 0.8579\n",
            "Epoch 18/100\n",
            "1875/1875 [==============================] - 13s 7ms/step - loss: 0.3776 - accuracy: 0.8322 - val_loss: 0.3168 - val_accuracy: 0.8625\n",
            "Epoch 19/100\n",
            "1875/1875 [==============================] - 13s 7ms/step - loss: 0.3760 - accuracy: 0.8336 - val_loss: 0.3229 - val_accuracy: 0.8576\n",
            "Epoch 20/100\n",
            "1875/1875 [==============================] - 13s 7ms/step - loss: 0.3725 - accuracy: 0.8353 - val_loss: 0.3184 - val_accuracy: 0.8594\n",
            "Epoch 21/100\n",
            "1875/1875 [==============================] - 14s 8ms/step - loss: 0.3690 - accuracy: 0.8379 - val_loss: 0.2930 - val_accuracy: 0.8767\n",
            "Epoch 22/100\n",
            "1875/1875 [==============================] - 13s 7ms/step - loss: 0.3657 - accuracy: 0.8392 - val_loss: 0.3118 - val_accuracy: 0.8660\n",
            "Epoch 23/100\n",
            "1875/1875 [==============================] - 14s 7ms/step - loss: 0.3642 - accuracy: 0.8398 - val_loss: 0.3146 - val_accuracy: 0.8622\n",
            "Epoch 24/100\n",
            "1875/1875 [==============================] - 14s 7ms/step - loss: 0.3641 - accuracy: 0.8412 - val_loss: 0.3054 - val_accuracy: 0.8668\n",
            "Epoch 25/100\n",
            "1875/1875 [==============================] - 14s 7ms/step - loss: 0.3630 - accuracy: 0.8413 - val_loss: 0.3252 - val_accuracy: 0.8558\n",
            "Epoch 26/100\n",
            "1875/1875 [==============================] - 14s 7ms/step - loss: 0.3632 - accuracy: 0.8412 - val_loss: 0.2946 - val_accuracy: 0.8748\n",
            "Epoch 27/100\n",
            "1875/1875 [==============================] - 14s 7ms/step - loss: 0.3622 - accuracy: 0.8404 - val_loss: 0.3027 - val_accuracy: 0.8669\n",
            "Epoch 28/100\n",
            "1875/1875 [==============================] - 13s 7ms/step - loss: 0.3599 - accuracy: 0.8418 - val_loss: 0.3213 - val_accuracy: 0.8583\n",
            "Epoch 29/100\n",
            "1875/1875 [==============================] - 13s 7ms/step - loss: 0.3572 - accuracy: 0.8438 - val_loss: 0.2959 - val_accuracy: 0.8728\n",
            "Epoch 30/100\n",
            "1875/1875 [==============================] - 13s 7ms/step - loss: 0.3587 - accuracy: 0.8436 - val_loss: 0.3080 - val_accuracy: 0.8657\n",
            "Epoch 31/100\n",
            "1875/1875 [==============================] - 14s 7ms/step - loss: 0.3564 - accuracy: 0.8444 - val_loss: 0.2930 - val_accuracy: 0.8749\n",
            "Epoch 32/100\n",
            "1875/1875 [==============================] - 14s 7ms/step - loss: 0.3568 - accuracy: 0.8433 - val_loss: 0.3062 - val_accuracy: 0.8666\n",
            "Epoch 33/100\n",
            "1875/1875 [==============================] - 14s 7ms/step - loss: 0.3560 - accuracy: 0.8451 - val_loss: 0.2960 - val_accuracy: 0.8715\n",
            "Epoch 34/100\n",
            "1875/1875 [==============================] - 14s 7ms/step - loss: 0.3551 - accuracy: 0.8442 - val_loss: 0.2981 - val_accuracy: 0.8711\n",
            "Epoch 35/100\n",
            "1875/1875 [==============================] - 13s 7ms/step - loss: 0.3535 - accuracy: 0.8458 - val_loss: 0.2968 - val_accuracy: 0.8703\n",
            "Epoch 36/100\n",
            "1875/1875 [==============================] - 14s 7ms/step - loss: 0.3526 - accuracy: 0.8461 - val_loss: 0.3120 - val_accuracy: 0.8625\n",
            "Epoch 37/100\n",
            "1875/1875 [==============================] - 14s 7ms/step - loss: 0.3522 - accuracy: 0.8464 - val_loss: 0.2948 - val_accuracy: 0.8752\n",
            "Epoch 38/100\n",
            "1875/1875 [==============================] - 14s 8ms/step - loss: 0.3522 - accuracy: 0.8460 - val_loss: 0.3012 - val_accuracy: 0.8691\n",
            "Epoch 39/100\n",
            "1875/1875 [==============================] - 14s 7ms/step - loss: 0.3523 - accuracy: 0.8457 - val_loss: 0.3024 - val_accuracy: 0.8680\n",
            "Epoch 40/100\n",
            "1875/1875 [==============================] - 14s 8ms/step - loss: 0.3504 - accuracy: 0.8473 - val_loss: 0.3111 - val_accuracy: 0.8616\n",
            "Epoch 41/100\n",
            "1875/1875 [==============================] - 14s 7ms/step - loss: 0.3486 - accuracy: 0.8482 - val_loss: 0.3013 - val_accuracy: 0.8691\n",
            "Epoch 42/100\n",
            "1875/1875 [==============================] - 14s 7ms/step - loss: 0.3501 - accuracy: 0.8478 - val_loss: 0.2998 - val_accuracy: 0.8698\n",
            "Epoch 43/100\n",
            "1875/1875 [==============================] - 13s 7ms/step - loss: 0.3500 - accuracy: 0.8480 - val_loss: 0.2958 - val_accuracy: 0.8717\n",
            "Epoch 44/100\n",
            "1875/1875 [==============================] - 13s 7ms/step - loss: 0.3496 - accuracy: 0.8479 - val_loss: 0.2761 - val_accuracy: 0.8831\n",
            "Epoch 45/100\n",
            "1875/1875 [==============================] - 14s 7ms/step - loss: 0.3486 - accuracy: 0.8475 - val_loss: 0.2988 - val_accuracy: 0.8699\n",
            "Epoch 46/100\n",
            "1875/1875 [==============================] - 14s 7ms/step - loss: 0.3464 - accuracy: 0.8496 - val_loss: 0.3009 - val_accuracy: 0.8673\n",
            "Epoch 47/100\n",
            "1875/1875 [==============================] - 14s 7ms/step - loss: 0.3472 - accuracy: 0.8490 - val_loss: 0.3020 - val_accuracy: 0.8674\n",
            "Epoch 48/100\n",
            "1875/1875 [==============================] - 14s 7ms/step - loss: 0.3459 - accuracy: 0.8501 - val_loss: 0.3157 - val_accuracy: 0.8590\n",
            "Epoch 49/100\n",
            "1875/1875 [==============================] - 14s 8ms/step - loss: 0.3469 - accuracy: 0.8500 - val_loss: 0.2958 - val_accuracy: 0.8718\n",
            "Epoch 50/100\n",
            "1875/1875 [==============================] - 14s 7ms/step - loss: 0.3466 - accuracy: 0.8487 - val_loss: 0.3004 - val_accuracy: 0.8691\n",
            "Epoch 51/100\n",
            "1875/1875 [==============================] - 14s 7ms/step - loss: 0.3458 - accuracy: 0.8504 - val_loss: 0.2854 - val_accuracy: 0.8769\n",
            "Epoch 52/100\n",
            "1875/1875 [==============================] - 14s 8ms/step - loss: 0.3436 - accuracy: 0.8514 - val_loss: 0.2931 - val_accuracy: 0.8719\n",
            "Epoch 53/100\n",
            "1875/1875 [==============================] - 14s 8ms/step - loss: 0.3437 - accuracy: 0.8508 - val_loss: 0.2931 - val_accuracy: 0.8728\n",
            "Epoch 54/100\n",
            "1875/1875 [==============================] - 14s 7ms/step - loss: 0.3443 - accuracy: 0.8511 - val_loss: 0.2955 - val_accuracy: 0.8712\n",
            "Epoch 55/100\n",
            "1875/1875 [==============================] - 13s 7ms/step - loss: 0.3429 - accuracy: 0.8522 - val_loss: 0.2932 - val_accuracy: 0.8713\n",
            "Epoch 56/100\n",
            "1875/1875 [==============================] - 14s 7ms/step - loss: 0.3420 - accuracy: 0.8521 - val_loss: 0.3033 - val_accuracy: 0.8658\n",
            "Epoch 57/100\n",
            "1875/1875 [==============================] - 13s 7ms/step - loss: 0.3416 - accuracy: 0.8514 - val_loss: 0.3039 - val_accuracy: 0.8647\n",
            "Epoch 58/100\n",
            "1875/1875 [==============================] - 13s 7ms/step - loss: 0.3420 - accuracy: 0.8516 - val_loss: 0.2899 - val_accuracy: 0.8738\n",
            "Epoch 59/100\n",
            "1875/1875 [==============================] - 14s 7ms/step - loss: 0.3417 - accuracy: 0.8525 - val_loss: 0.3079 - val_accuracy: 0.8632\n",
            "Epoch 60/100\n",
            "1875/1875 [==============================] - 14s 7ms/step - loss: 0.3413 - accuracy: 0.8515 - val_loss: 0.2976 - val_accuracy: 0.8680\n",
            "Epoch 61/100\n",
            "1875/1875 [==============================] - 14s 7ms/step - loss: 0.3413 - accuracy: 0.8514 - val_loss: 0.2990 - val_accuracy: 0.8680\n",
            "Epoch 62/100\n",
            "1875/1875 [==============================] - 13s 7ms/step - loss: 0.3412 - accuracy: 0.8520 - val_loss: 0.2902 - val_accuracy: 0.8736\n",
            "Epoch 63/100\n",
            "1875/1875 [==============================] - 13s 7ms/step - loss: 0.3397 - accuracy: 0.8536 - val_loss: 0.2865 - val_accuracy: 0.8766\n",
            "Epoch 64/100\n",
            "1875/1875 [==============================] - 14s 7ms/step - loss: 0.3418 - accuracy: 0.8518 - val_loss: 0.2869 - val_accuracy: 0.8744\n",
            "Epoch 65/100\n",
            "1875/1875 [==============================] - 14s 7ms/step - loss: 0.3397 - accuracy: 0.8536 - val_loss: 0.2874 - val_accuracy: 0.8756\n",
            "Epoch 66/100\n",
            "1875/1875 [==============================] - 14s 7ms/step - loss: 0.3402 - accuracy: 0.8526 - val_loss: 0.2935 - val_accuracy: 0.8714\n",
            "Epoch 67/100\n",
            "1875/1875 [==============================] - 13s 7ms/step - loss: 0.3399 - accuracy: 0.8526 - val_loss: 0.2739 - val_accuracy: 0.8835\n",
            "Epoch 68/100\n",
            "1875/1875 [==============================] - 14s 7ms/step - loss: 0.3383 - accuracy: 0.8531 - val_loss: 0.2878 - val_accuracy: 0.8755\n",
            "Epoch 69/100\n",
            "1875/1875 [==============================] - 14s 8ms/step - loss: 0.3382 - accuracy: 0.8534 - val_loss: 0.3103 - val_accuracy: 0.8612\n",
            "Epoch 70/100\n",
            "1875/1875 [==============================] - 14s 7ms/step - loss: 0.3379 - accuracy: 0.8542 - val_loss: 0.2953 - val_accuracy: 0.8684\n",
            "Epoch 71/100\n",
            "1875/1875 [==============================] - 14s 7ms/step - loss: 0.3375 - accuracy: 0.8548 - val_loss: 0.2855 - val_accuracy: 0.8762\n",
            "Epoch 72/100\n",
            "1875/1875 [==============================] - 14s 7ms/step - loss: 0.3393 - accuracy: 0.8534 - val_loss: 0.2938 - val_accuracy: 0.8716\n",
            "Epoch 73/100\n",
            "1875/1875 [==============================] - 14s 8ms/step - loss: 0.3361 - accuracy: 0.8551 - val_loss: 0.2985 - val_accuracy: 0.8688\n",
            "Epoch 74/100\n",
            "1875/1875 [==============================] - 14s 7ms/step - loss: 0.3376 - accuracy: 0.8552 - val_loss: 0.2875 - val_accuracy: 0.8741\n",
            "Epoch 75/100\n",
            "1875/1875 [==============================] - 13s 7ms/step - loss: 0.3367 - accuracy: 0.8551 - val_loss: 0.2851 - val_accuracy: 0.8757\n",
            "Epoch 76/100\n",
            "1875/1875 [==============================] - 14s 7ms/step - loss: 0.3366 - accuracy: 0.8546 - val_loss: 0.2918 - val_accuracy: 0.8719\n",
            "Epoch 77/100\n",
            "1875/1875 [==============================] - 14s 7ms/step - loss: 0.3389 - accuracy: 0.8537 - val_loss: 0.2967 - val_accuracy: 0.8674\n",
            "Epoch 78/100\n",
            "1875/1875 [==============================] - 14s 8ms/step - loss: 0.3372 - accuracy: 0.8536 - val_loss: 0.2720 - val_accuracy: 0.8850\n",
            "Epoch 79/100\n",
            "1875/1875 [==============================] - 14s 7ms/step - loss: 0.3363 - accuracy: 0.8546 - val_loss: 0.2876 - val_accuracy: 0.8749\n",
            "Epoch 80/100\n",
            "1875/1875 [==============================] - 14s 7ms/step - loss: 0.3348 - accuracy: 0.8554 - val_loss: 0.3000 - val_accuracy: 0.8668\n",
            "Epoch 81/100\n",
            "1875/1875 [==============================] - 14s 7ms/step - loss: 0.3365 - accuracy: 0.8550 - val_loss: 0.3030 - val_accuracy: 0.8645\n",
            "Epoch 82/100\n",
            "1875/1875 [==============================] - 14s 7ms/step - loss: 0.3355 - accuracy: 0.8556 - val_loss: 0.3090 - val_accuracy: 0.8627\n",
            "Epoch 83/100\n",
            "1875/1875 [==============================] - 13s 7ms/step - loss: 0.3339 - accuracy: 0.8555 - val_loss: 0.3053 - val_accuracy: 0.8644\n",
            "Epoch 84/100\n",
            "1875/1875 [==============================] - 14s 7ms/step - loss: 0.3337 - accuracy: 0.8561 - val_loss: 0.2877 - val_accuracy: 0.8722\n",
            "Epoch 85/100\n",
            "1875/1875 [==============================] - 14s 7ms/step - loss: 0.3359 - accuracy: 0.8541 - val_loss: 0.2855 - val_accuracy: 0.8751\n",
            "Epoch 86/100\n",
            "1875/1875 [==============================] - 14s 8ms/step - loss: 0.3336 - accuracy: 0.8569 - val_loss: 0.3008 - val_accuracy: 0.8659\n",
            "Epoch 87/100\n",
            "1875/1875 [==============================] - 14s 7ms/step - loss: 0.3369 - accuracy: 0.8538 - val_loss: 0.3022 - val_accuracy: 0.8663\n",
            "Epoch 88/100\n",
            "1875/1875 [==============================] - 14s 8ms/step - loss: 0.3355 - accuracy: 0.8546 - val_loss: 0.3098 - val_accuracy: 0.8615\n",
            "Epoch 89/100\n",
            "1875/1875 [==============================] - 14s 7ms/step - loss: 0.3324 - accuracy: 0.8569 - val_loss: 0.2776 - val_accuracy: 0.8794\n",
            "Epoch 90/100\n",
            "1875/1875 [==============================] - 14s 7ms/step - loss: 0.3339 - accuracy: 0.8559 - val_loss: 0.2849 - val_accuracy: 0.8737\n",
            "Epoch 91/100\n",
            "1875/1875 [==============================] - 14s 7ms/step - loss: 0.3327 - accuracy: 0.8571 - val_loss: 0.2998 - val_accuracy: 0.8674\n",
            "Epoch 92/100\n",
            "1875/1875 [==============================] - 14s 8ms/step - loss: 0.3343 - accuracy: 0.8567 - val_loss: 0.2774 - val_accuracy: 0.8798\n",
            "Epoch 93/100\n",
            "1875/1875 [==============================] - 14s 8ms/step - loss: 0.3344 - accuracy: 0.8561 - val_loss: 0.2978 - val_accuracy: 0.8686\n",
            "Epoch 94/100\n",
            "1875/1875 [==============================] - 14s 7ms/step - loss: 0.3310 - accuracy: 0.8565 - val_loss: 0.2826 - val_accuracy: 0.8774\n",
            "Epoch 95/100\n",
            "1875/1875 [==============================] - 14s 8ms/step - loss: 0.3330 - accuracy: 0.8565 - val_loss: 0.2943 - val_accuracy: 0.8720\n",
            "Epoch 96/100\n",
            "1875/1875 [==============================] - 14s 7ms/step - loss: 0.3317 - accuracy: 0.8573 - val_loss: 0.2948 - val_accuracy: 0.8706\n",
            "Epoch 97/100\n",
            "1875/1875 [==============================] - 14s 8ms/step - loss: 0.3333 - accuracy: 0.8562 - val_loss: 0.2799 - val_accuracy: 0.8766\n",
            "Epoch 98/100\n",
            "1875/1875 [==============================] - 14s 7ms/step - loss: 0.3338 - accuracy: 0.8570 - val_loss: 0.2882 - val_accuracy: 0.8725\n",
            "Epoch 99/100\n",
            "1875/1875 [==============================] - 14s 7ms/step - loss: 0.3302 - accuracy: 0.8580 - val_loss: 0.2899 - val_accuracy: 0.8730\n",
            "Epoch 100/100\n",
            "1875/1875 [==============================] - 14s 8ms/step - loss: 0.3322 - accuracy: 0.8552 - val_loss: 0.2897 - val_accuracy: 0.8728\n"
          ]
        }
      ]
    },
    {
      "cell_type": "code",
      "source": [
        "model.save(model_path)"
      ],
      "metadata": {
        "colab": {
          "base_uri": "https://localhost:8080/"
        },
        "id": "DSjqjBOyopec",
        "outputId": "a0819fb7-4ffe-4422-fc1d-c5784cfb8848"
      },
      "execution_count": 14,
      "outputs": [
        {
          "output_type": "stream",
          "name": "stderr",
          "text": [
            "WARNING:absl:Found untraced functions such as _jit_compiled_convolution_op, _jit_compiled_convolution_op while saving (showing 2 of 2). These functions will not be directly callable after loading.\n"
          ]
        }
      ]
    },
    {
      "cell_type": "code",
      "source": [
        "plot_training(history, plot_path)"
      ],
      "metadata": {
        "colab": {
          "base_uri": "https://localhost:8080/",
          "height": 477
        },
        "id": "Hrhd4gVou0Xv",
        "outputId": "a74b673a-4b38-4e7f-d696-3776e7a72b4e"
      },
      "execution_count": 15,
      "outputs": [
        {
          "output_type": "display_data",
          "data": {
            "text/plain": [
              "<Figure size 640x480 with 1 Axes>"
            ],
            "image/png": "[encoded data removed]"
          },
          "metadata": {}
        }
      ]
    },
    {
      "cell_type": "code",
      "source": [],
      "metadata": {
        "id": "XNPjVWwcu5n-"
      },
      "execution_count": null,
      "outputs": []
    }
  ]
}